{
 "cells": [
  {
   "cell_type": "code",
   "execution_count": 1,
   "id": "8dc884a2",
   "metadata": {},
   "outputs": [
    {
     "name": "stdout",
     "output_type": "stream",
     "text": [
      "[1 2 3 4 5]\n"
     ]
    }
   ],
   "source": [
    "import numpy as np\n",
    "\n",
    "x = np.array([1,2,3,4,5])\n",
    "print(x)"
   ]
  },
  {
   "cell_type": "code",
   "execution_count": 2,
   "id": "0115f717",
   "metadata": {},
   "outputs": [
    {
     "data": {
      "text/plain": [
       "numpy.ndarray"
      ]
     },
     "execution_count": 2,
     "metadata": {},
     "output_type": "execute_result"
    }
   ],
   "source": [
    "type(x)"
   ]
  },
  {
   "cell_type": "code",
   "execution_count": 3,
   "id": "028a8c10",
   "metadata": {},
   "outputs": [
    {
     "name": "stdout",
     "output_type": "stream",
     "text": [
      "[1, 2, 3, 4, 5]\n"
     ]
    },
    {
     "data": {
      "text/plain": [
       "list"
      ]
     },
     "execution_count": 3,
     "metadata": {},
     "output_type": "execute_result"
    }
   ],
   "source": [
    "y = [1,2,3,4,5]\n",
    "print(y)\n",
    "type(y)"
   ]
  },
  {
   "cell_type": "code",
   "execution_count": 5,
   "id": "f5371c69",
   "metadata": {},
   "outputs": [
    {
     "name": "stdout",
     "output_type": "stream",
     "text": [
      "1.22 µs ± 79.6 ns per loop (mean ± std. dev. of 7 runs, 1,000,000 loops each)\n"
     ]
    }
   ],
   "source": [
    "%timeit [j**4 for j in range(1,8)]"
   ]
  },
  {
   "cell_type": "code",
   "execution_count": 6,
   "id": "0654da33",
   "metadata": {},
   "outputs": [
    {
     "name": "stdout",
     "output_type": "stream",
     "text": [
      "8.1 µs ± 596 ns per loop (mean ± std. dev. of 7 runs, 100,000 loops each)\n"
     ]
    }
   ],
   "source": [
    "import numpy as np\n",
    "\n",
    "%timeit np.arange(1,9)**4"
   ]
  },
  {
   "cell_type": "markdown",
   "id": "bb67a762",
   "metadata": {},
   "source": [
    "# Array"
   ]
  },
  {
   "cell_type": "code",
   "execution_count": 8,
   "id": "157324f3",
   "metadata": {},
   "outputs": [
    {
     "name": "stdout",
     "output_type": "stream",
     "text": [
      "[1 2 3 4]\n"
     ]
    },
    {
     "data": {
      "text/plain": [
       "numpy.ndarray"
      ]
     },
     "execution_count": 8,
     "metadata": {},
     "output_type": "execute_result"
    }
   ],
   "source": [
    "import numpy as np\n",
    "\n",
    "x = [1,2,3,4]\n",
    "y = np.array(x)\n",
    "print(y)\n",
    "type(y)"
   ]
  },
  {
   "cell_type": "code",
   "execution_count": 9,
   "id": "0c8086b1",
   "metadata": {},
   "outputs": [
    {
     "data": {
      "text/plain": [
       "array([1, 2, 3, 4])"
      ]
     },
     "execution_count": 9,
     "metadata": {},
     "output_type": "execute_result"
    }
   ],
   "source": [
    "y"
   ]
  },
  {
   "cell_type": "code",
   "execution_count": 11,
   "id": "fe9492ac",
   "metadata": {},
   "outputs": [
    {
     "name": "stdout",
     "output_type": "stream",
     "text": [
      "enter:1\n",
      "enter:2\n",
      "enter:3\n",
      "enter:4\n",
      "[1 2 3 4]\n"
     ]
    }
   ],
   "source": [
    "l = []\n",
    "for i in range(1,5):\n",
    "    int_1 = int(input(\"enter:\"))\n",
    "    l.append(int_1)\n",
    "print(np.array(l))"
   ]
  },
  {
   "cell_type": "markdown",
   "id": "9ca6c09f",
   "metadata": {},
   "source": [
    "# How to know that which type of dimension array"
   ]
  },
  {
   "cell_type": "code",
   "execution_count": 13,
   "id": "2b792175",
   "metadata": {},
   "outputs": [
    {
     "name": "stdout",
     "output_type": "stream",
     "text": [
      "[1 2 3 4 5]\n",
      "<class 'numpy.ndarray'>\n",
      "1\n"
     ]
    }
   ],
   "source": [
    "import numpy as np\n",
    "\n",
    "x = [1,2,3,4,5]\n",
    "y = np.array([1,2,3,4,5])\n",
    "print(y)\n",
    "print(type(y))\n",
    "print(y.ndim)"
   ]
  },
  {
   "cell_type": "code",
   "execution_count": 14,
   "id": "2a88dca8",
   "metadata": {},
   "outputs": [
    {
     "name": "stdout",
     "output_type": "stream",
     "text": [
      "[[1 2 3 4]\n",
      " [5 6 7 8]]\n",
      "2\n"
     ]
    }
   ],
   "source": [
    "arr2 = np.array([[1,2,3,4],[5,6,7,8]])\n",
    "print(arr2)\n",
    "print(arr2.ndim)"
   ]
  },
  {
   "cell_type": "code",
   "execution_count": 15,
   "id": "b10158c1",
   "metadata": {},
   "outputs": [
    {
     "ename": "ValueError",
     "evalue": "setting an array element with a sequence. The requested array has an inhomogeneous shape after 1 dimensions. The detected shape was (2,) + inhomogeneous part.",
     "output_type": "error",
     "traceback": [
      "\u001b[1;31m---------------------------------------------------------------------------\u001b[0m",
      "\u001b[1;31mValueError\u001b[0m                                Traceback (most recent call last)",
      "Cell \u001b[1;32mIn[15], line 1\u001b[0m\n\u001b[1;32m----> 1\u001b[0m arr2 \u001b[38;5;241m=\u001b[39m \u001b[43mnp\u001b[49m\u001b[38;5;241;43m.\u001b[39;49m\u001b[43marray\u001b[49m\u001b[43m(\u001b[49m\u001b[43m[\u001b[49m\u001b[43m[\u001b[49m\u001b[38;5;241;43m1\u001b[39;49m\u001b[43m,\u001b[49m\u001b[38;5;241;43m2\u001b[39;49m\u001b[43m,\u001b[49m\u001b[38;5;241;43m3\u001b[39;49m\u001b[43m,\u001b[49m\u001b[38;5;241;43m4\u001b[39;49m\u001b[43m]\u001b[49m\u001b[43m,\u001b[49m\u001b[43m[\u001b[49m\u001b[38;5;241;43m5\u001b[39;49m\u001b[43m,\u001b[49m\u001b[38;5;241;43m6\u001b[39;49m\u001b[43m,\u001b[49m\u001b[38;5;241;43m7\u001b[39;49m\u001b[43m]\u001b[49m\u001b[43m]\u001b[49m\u001b[43m)\u001b[49m   \u001b[38;5;66;03m#when both arrays do not have same length\u001b[39;00m\n\u001b[0;32m      2\u001b[0m \u001b[38;5;28mprint\u001b[39m(arr2)\n\u001b[0;32m      3\u001b[0m \u001b[38;5;28mprint\u001b[39m(arr2\u001b[38;5;241m.\u001b[39mndim)\n",
      "\u001b[1;31mValueError\u001b[0m: setting an array element with a sequence. The requested array has an inhomogeneous shape after 1 dimensions. The detected shape was (2,) + inhomogeneous part."
     ]
    }
   ],
   "source": [
    "arr2 = np.array([[1,2,3,4],[5,6,7]])   #when both arrays do not have same length\n",
    "print(arr2)\n",
    "print(arr2.ndim)"
   ]
  },
  {
   "cell_type": "code",
   "execution_count": 17,
   "id": "02f4cae8",
   "metadata": {},
   "outputs": [
    {
     "name": "stdout",
     "output_type": "stream",
     "text": [
      "[[[ 1  2  3  4]\n",
      "  [ 5  6  7  8]\n",
      "  [ 9 10 11 12]]]\n",
      "3\n"
     ]
    }
   ],
   "source": [
    "arr3 = np.array([[[1,2,3,4],[5,6,7,8],[9,10,11,12]]])   \n",
    "print(arr3)\n",
    "print(arr3.ndim)"
   ]
  },
  {
   "cell_type": "code",
   "execution_count": 20,
   "id": "03a7cfaa",
   "metadata": {},
   "outputs": [
    {
     "name": "stdout",
     "output_type": "stream",
     "text": [
      "[[[[[[[[[[1 2 3 4]]]]]]]]]]\n",
      "10\n"
     ]
    }
   ],
   "source": [
    "arn = np.array([1,2,3,4],ndmin = 10)\n",
    "print(arn)\n",
    "print(arn.ndim)"
   ]
  },
  {
   "cell_type": "markdown",
   "id": "5f2457de",
   "metadata": {},
   "source": [
    "# Zeros"
   ]
  },
  {
   "cell_type": "code",
   "execution_count": 21,
   "id": "115d506a",
   "metadata": {},
   "outputs": [
    {
     "name": "stdout",
     "output_type": "stream",
     "text": [
      "[0. 0. 0. 0.]\n",
      "<class 'numpy.ndarray'>\n"
     ]
    }
   ],
   "source": [
    "import numpy as np\n",
    "\n",
    "arr_zero = np.zeros(4)\n",
    "print(arr_zero)\n",
    "print(type(arr_zero))"
   ]
  },
  {
   "cell_type": "code",
   "execution_count": 24,
   "id": "79ae1c04",
   "metadata": {},
   "outputs": [
    {
     "name": "stdout",
     "output_type": "stream",
     "text": [
      "[[0. 0. 0. 0.]\n",
      " [0. 0. 0. 0.]\n",
      " [0. 0. 0. 0.]]\n"
     ]
    }
   ],
   "source": [
    "import numpy as np\n",
    "\n",
    "#arr_zero = np.zeros(4)\n",
    "ar_zero1 = np.zeros((3,4))\n",
    "print(ar_zero1)\n",
    "#print(arr_zero)\n",
    "#print(type(arr_zero))"
   ]
  },
  {
   "cell_type": "markdown",
   "id": "61db6e56",
   "metadata": {},
   "source": [
    "# 1's "
   ]
  },
  {
   "cell_type": "code",
   "execution_count": 25,
   "id": "00312e4d",
   "metadata": {},
   "outputs": [
    {
     "name": "stdout",
     "output_type": "stream",
     "text": [
      "[1. 1. 1. 1.]\n"
     ]
    }
   ],
   "source": [
    "arr_one = np.ones(4)\n",
    "print(arr_one)"
   ]
  },
  {
   "cell_type": "code",
   "execution_count": 27,
   "id": "8f6239e8",
   "metadata": {},
   "outputs": [
    {
     "name": "stdout",
     "output_type": "stream",
     "text": [
      "[[1. 1. 1. 1.]\n",
      " [1. 1. 1. 1.]]\n"
     ]
    }
   ],
   "source": [
    "arr_one2 = np.ones((2,4))\n",
    "print(arr_one2)"
   ]
  },
  {
   "cell_type": "markdown",
   "id": "eb5f88e1",
   "metadata": {},
   "source": [
    "# Empty"
   ]
  },
  {
   "cell_type": "code",
   "execution_count": 28,
   "id": "c3052059",
   "metadata": {},
   "outputs": [
    {
     "name": "stdout",
     "output_type": "stream",
     "text": [
      "[1. 1. 1. 1.]\n"
     ]
    }
   ],
   "source": [
    "ar_em = np.empty(4)\n",
    "print(ar_em)"
   ]
  },
  {
   "cell_type": "markdown",
   "id": "72a9bc2b",
   "metadata": {},
   "source": [
    "# Range Array"
   ]
  },
  {
   "cell_type": "code",
   "execution_count": 29,
   "id": "ec3f4016",
   "metadata": {},
   "outputs": [
    {
     "name": "stdout",
     "output_type": "stream",
     "text": [
      "[0 1 2 3]\n"
     ]
    }
   ],
   "source": [
    "arr_rn = np.arange(4)\n",
    "print(arr_rn)"
   ]
  },
  {
   "cell_type": "code",
   "execution_count": 33,
   "id": "d8c08e4c",
   "metadata": {},
   "outputs": [
    {
     "name": "stdout",
     "output_type": "stream",
     "text": [
      "[0 1 2]\n"
     ]
    }
   ],
   "source": [
    "arr_rn3 = np.arange((3))\n",
    "print(arr_rn3)"
   ]
  },
  {
   "cell_type": "markdown",
   "id": "04d3275d",
   "metadata": {},
   "source": [
    "# Diagonal element with 1's"
   ]
  },
  {
   "cell_type": "code",
   "execution_count": 32,
   "id": "f97c0e3a",
   "metadata": {},
   "outputs": [
    {
     "name": "stdout",
     "output_type": "stream",
     "text": [
      "[[1. 0. 0.]\n",
      " [0. 1. 0.]\n",
      " [0. 0. 1.]]\n"
     ]
    }
   ],
   "source": [
    "arr_dia = np.eye(3)\n",
    "print(arr_dia)"
   ]
  },
  {
   "cell_type": "code",
   "execution_count": 34,
   "id": "411fef75",
   "metadata": {},
   "outputs": [
    {
     "name": "stdout",
     "output_type": "stream",
     "text": [
      "[[1. 0. 0. 0. 0.]\n",
      " [0. 1. 0. 0. 0.]\n",
      " [0. 0. 1. 0. 0.]]\n"
     ]
    }
   ],
   "source": [
    "arr_dia = np.eye(3,5)\n",
    "print(arr_dia)"
   ]
  },
  {
   "cell_type": "code",
   "execution_count": 35,
   "id": "45a4568f",
   "metadata": {},
   "outputs": [
    {
     "name": "stdout",
     "output_type": "stream",
     "text": [
      "[[1. 0. 0. 0. 0.]\n",
      " [0. 1. 0. 0. 0.]\n",
      " [0. 0. 1. 0. 0.]\n",
      " [0. 0. 0. 1. 0.]\n",
      " [0. 0. 0. 0. 1.]]\n"
     ]
    }
   ],
   "source": [
    "arr_dia = np.eye(5,5)\n",
    "print(arr_dia)"
   ]
  },
  {
   "cell_type": "markdown",
   "id": "d522f800",
   "metadata": {},
   "source": [
    "# Linspace"
   ]
  },
  {
   "cell_type": "code",
   "execution_count": 37,
   "id": "36df9bfc",
   "metadata": {},
   "outputs": [
    {
     "name": "stdout",
     "output_type": "stream",
     "text": [
      "[ 1.    5.75 10.5  15.25 20.  ]\n"
     ]
    }
   ],
   "source": [
    "arr_lin = np.linspace(1,20,num=5)\n",
    "print(arr_lin)"
   ]
  },
  {
   "cell_type": "code",
   "execution_count": 39,
   "id": "2d4c5826",
   "metadata": {},
   "outputs": [
    {
     "name": "stdout",
     "output_type": "stream",
     "text": [
      "[ 1.         17.33333333 33.66666667 50.        ]\n"
     ]
    }
   ],
   "source": [
    "arr_lin = np.linspace(1,50,num=4)\n",
    "print(arr_lin)"
   ]
  },
  {
   "cell_type": "markdown",
   "id": "adea3c55",
   "metadata": {},
   "source": [
    "# NumPy Arrays with Random Numbers:-\n",
    "# rand()"
   ]
  },
  {
   "cell_type": "code",
   "execution_count": 41,
   "id": "78a101fc",
   "metadata": {},
   "outputs": [
    {
     "name": "stdout",
     "output_type": "stream",
     "text": [
      "[0.0187831  0.09234213 0.58285494 0.97180951]\n"
     ]
    }
   ],
   "source": [
    "import numpy as np\n",
    "var = np.random.rand(4)\n",
    "print(var)"
   ]
  },
  {
   "cell_type": "code",
   "execution_count": 42,
   "id": "d5555657",
   "metadata": {},
   "outputs": [
    {
     "name": "stdout",
     "output_type": "stream",
     "text": [
      "[0.47449809 0.53932832 0.08429711 0.73669939]\n"
     ]
    }
   ],
   "source": [
    "var = np.random.rand(4)\n",
    "print(var)"
   ]
  },
  {
   "cell_type": "code",
   "execution_count": 43,
   "id": "fda0fa6a",
   "metadata": {},
   "outputs": [
    {
     "name": "stdout",
     "output_type": "stream",
     "text": [
      "[0.69540149 0.13259496 0.33831446 0.6629839 ]\n"
     ]
    }
   ],
   "source": [
    "var = np.random.rand(4)\n",
    "print(var)"
   ]
  },
  {
   "cell_type": "code",
   "execution_count": 44,
   "id": "5b26fcc7",
   "metadata": {},
   "outputs": [
    {
     "name": "stdout",
     "output_type": "stream",
     "text": [
      "[[0.84939296 0.90897529 0.56367889 0.2726002  0.73245848]\n",
      " [0.92555977 0.56816613 0.94587271 0.91193879 0.82545326]]\n"
     ]
    }
   ],
   "source": [
    "var1 = np.random.rand(2,5)\n",
    "print(var1)"
   ]
  },
  {
   "cell_type": "code",
   "execution_count": 45,
   "id": "fa49c139",
   "metadata": {},
   "outputs": [
    {
     "name": "stdout",
     "output_type": "stream",
     "text": [
      "[[0.7191411  0.35423594 0.9477598  0.08994087 0.99647142]\n",
      " [0.36509355 0.09255402 0.31066189 0.86706668 0.61102712]\n",
      " [0.30312211 0.06489034 0.84591267 0.51165858 0.52028158]\n",
      " [0.53206179 0.71658406 0.24371978 0.94209869 0.00189928]\n",
      " [0.96630802 0.45900511 0.88052039 0.11939874 0.96637478]]\n"
     ]
    }
   ],
   "source": [
    "var1 = np.random.rand(5,5)\n",
    "print(var1)"
   ]
  },
  {
   "cell_type": "code",
   "execution_count": 46,
   "id": "e81e328f",
   "metadata": {},
   "outputs": [
    {
     "name": "stdout",
     "output_type": "stream",
     "text": [
      "[[0.79651873 0.38746603 0.14201732]\n",
      " [0.44331556 0.54441263 0.80861206]\n",
      " [0.77710844 0.73546279 0.44938387]]\n"
     ]
    }
   ],
   "source": [
    "var1 = np.random.rand(3,3)\n",
    "print(var1)"
   ]
  },
  {
   "cell_type": "markdown",
   "id": "e8b5f575",
   "metadata": {},
   "source": [
    "# randn()"
   ]
  },
  {
   "cell_type": "code",
   "execution_count": 47,
   "id": "35c7391e",
   "metadata": {},
   "outputs": [
    {
     "name": "stdout",
     "output_type": "stream",
     "text": [
      "[1.0127433  0.35949413 0.28888527]\n"
     ]
    }
   ],
   "source": [
    "rar = np.random.randn(3)\n",
    "print(rar)"
   ]
  },
  {
   "cell_type": "code",
   "execution_count": 49,
   "id": "5543e278",
   "metadata": {},
   "outputs": [
    {
     "name": "stdout",
     "output_type": "stream",
     "text": [
      "[-0.19129561 -0.48289013  1.06100728]\n"
     ]
    }
   ],
   "source": [
    "rar = np.random.randn(3)\n",
    "print(rar)"
   ]
  },
  {
   "cell_type": "code",
   "execution_count": 48,
   "id": "df45045c",
   "metadata": {},
   "outputs": [
    {
     "name": "stdout",
     "output_type": "stream",
     "text": [
      "[[-0.10861831 -1.91458672  0.09768598]\n",
      " [ 0.00877705  1.47964741  2.31498294]\n",
      " [-0.11665227  1.49105741 -2.52502042]]\n"
     ]
    }
   ],
   "source": [
    "rar = np.random.randn(3,3)\n",
    "print(rar)"
   ]
  },
  {
   "cell_type": "markdown",
   "id": "a31087d8",
   "metadata": {},
   "source": [
    "# ranf()"
   ]
  },
  {
   "cell_type": "code",
   "execution_count": 50,
   "id": "625ec323",
   "metadata": {},
   "outputs": [
    {
     "name": "stdout",
     "output_type": "stream",
     "text": [
      "[0.52005725 0.7721198  0.17477526 0.0549231 ]\n"
     ]
    }
   ],
   "source": [
    "ar_ranf = np.random.ranf(4)\n",
    "print(ar_ranf)"
   ]
  },
  {
   "cell_type": "code",
   "execution_count": 51,
   "id": "9e462262",
   "metadata": {},
   "outputs": [
    {
     "name": "stdout",
     "output_type": "stream",
     "text": [
      "[0.90597008 0.13438346 0.84496133 0.43999695]\n"
     ]
    }
   ],
   "source": [
    "ar_ranf = np.random.ranf(4)\n",
    "print(ar_ranf)"
   ]
  },
  {
   "cell_type": "code",
   "execution_count": 52,
   "id": "bb891f4d",
   "metadata": {},
   "outputs": [
    {
     "ename": "TypeError",
     "evalue": "random_sample() takes at most 1 positional argument (2 given)",
     "output_type": "error",
     "traceback": [
      "\u001b[1;31m---------------------------------------------------------------------------\u001b[0m",
      "\u001b[1;31mTypeError\u001b[0m                                 Traceback (most recent call last)",
      "Cell \u001b[1;32mIn[52], line 1\u001b[0m\n\u001b[1;32m----> 1\u001b[0m ar_ranf \u001b[38;5;241m=\u001b[39m \u001b[43mnp\u001b[49m\u001b[38;5;241;43m.\u001b[39;49m\u001b[43mrandom\u001b[49m\u001b[38;5;241;43m.\u001b[39;49m\u001b[43mranf\u001b[49m\u001b[43m(\u001b[49m\u001b[38;5;241;43m3\u001b[39;49m\u001b[43m,\u001b[49m\u001b[38;5;241;43m4\u001b[39;49m\u001b[43m)\u001b[49m\n\u001b[0;32m      2\u001b[0m \u001b[38;5;28mprint\u001b[39m(ar_ranf)\n",
      "File \u001b[1;32mnumpy\\\\random\\\\mtrand.pyx:4878\u001b[0m, in \u001b[0;36mnumpy.random.mtrand.ranf\u001b[1;34m()\u001b[0m\n",
      "File \u001b[1;32mnumpy\\\\random\\\\mtrand.pyx:384\u001b[0m, in \u001b[0;36mnumpy.random.mtrand.RandomState.random_sample\u001b[1;34m()\u001b[0m\n",
      "\u001b[1;31mTypeError\u001b[0m: random_sample() takes at most 1 positional argument (2 given)"
     ]
    }
   ],
   "source": [
    "ar_ranf = np.random.ranf(3,4)\n",
    "print(ar_ranf)"
   ]
  },
  {
   "cell_type": "markdown",
   "id": "47cdfafe",
   "metadata": {},
   "source": [
    "# randint()"
   ]
  },
  {
   "cell_type": "code",
   "execution_count": 53,
   "id": "4c60ee63",
   "metadata": {},
   "outputs": [
    {
     "name": "stdout",
     "output_type": "stream",
     "text": [
      "[10 14 19 17 19]\n"
     ]
    }
   ],
   "source": [
    "# var4 = np.random.randint(min,max,total_values)\n",
    "\n",
    "var4 = np.random.randint(5,20,5)\n",
    "print(var4)"
   ]
  },
  {
   "cell_type": "code",
   "execution_count": 54,
   "id": "764e2e64",
   "metadata": {},
   "outputs": [
    {
     "name": "stdout",
     "output_type": "stream",
     "text": [
      "[ 8 17 10 18 16  6 16]\n"
     ]
    }
   ],
   "source": [
    "var4 = np.random.randint(5,20,7)\n",
    "print(var4)"
   ]
  },
  {
   "cell_type": "markdown",
   "id": "722c4fa3",
   "metadata": {},
   "source": [
    "# Data Types:-"
   ]
  },
  {
   "cell_type": "code",
   "execution_count": 1,
   "id": "c3053764",
   "metadata": {},
   "outputs": [
    {
     "name": "stdout",
     "output_type": "stream",
     "text": [
      "Data type: int32\n"
     ]
    }
   ],
   "source": [
    "import numpy as np\n",
    "\n",
    "var = np.array([1,2,3,4,5])\n",
    "print(\"Data type:\",var.dtype)"
   ]
  },
  {
   "cell_type": "code",
   "execution_count": 2,
   "id": "13cac820",
   "metadata": {},
   "outputs": [
    {
     "name": "stdout",
     "output_type": "stream",
     "text": [
      "Data type: int32\n"
     ]
    }
   ],
   "source": [
    "var = np.array([1,2,3,4,5,45,67,89,34])\n",
    "print(\"Data type:\",var.dtype)"
   ]
  },
  {
   "cell_type": "code",
   "execution_count": 3,
   "id": "1116978a",
   "metadata": {},
   "outputs": [
    {
     "name": "stdout",
     "output_type": "stream",
     "text": [
      "Data type: float64\n"
     ]
    }
   ],
   "source": [
    "var = np.array([1.56,2.87,3,4,5,89.65])\n",
    "print(\"Data type:\",var.dtype)"
   ]
  },
  {
   "cell_type": "code",
   "execution_count": 4,
   "id": "c2aa2099",
   "metadata": {},
   "outputs": [
    {
     "name": "stdout",
     "output_type": "stream",
     "text": [
      "Data type: <U1\n"
     ]
    }
   ],
   "source": [
    "var = np.array(['A','D','F'])\n",
    "print(\"Data type:\",var.dtype)"
   ]
  },
  {
   "cell_type": "code",
   "execution_count": 5,
   "id": "1bf99a7f",
   "metadata": {},
   "outputs": [
    {
     "name": "stdout",
     "output_type": "stream",
     "text": [
      "Data type: <U32\n"
     ]
    }
   ],
   "source": [
    "var = np.array([1,2,3,4,5,'A','Hello','Python',67.87])\n",
    "print(\"Data type:\",var.dtype)"
   ]
  },
  {
   "cell_type": "code",
   "execution_count": 6,
   "id": "166c8a99",
   "metadata": {},
   "outputs": [
    {
     "name": "stdout",
     "output_type": "stream",
     "text": [
      "Data type: int32\n"
     ]
    }
   ],
   "source": [
    "x = np.array([1,2,3,4,5])\n",
    "print(\"Data type:\",x.dtype)"
   ]
  },
  {
   "cell_type": "code",
   "execution_count": 7,
   "id": "010a8c52",
   "metadata": {},
   "outputs": [
    {
     "name": "stdout",
     "output_type": "stream",
     "text": [
      "Data type: int8\n"
     ]
    }
   ],
   "source": [
    "x = np.array([1,2,3,4,5],dtype = np.int8)\n",
    "print(\"Data type:\",x.dtype)"
   ]
  },
  {
   "cell_type": "code",
   "execution_count": 8,
   "id": "fca87e0b",
   "metadata": {},
   "outputs": [
    {
     "name": "stdout",
     "output_type": "stream",
     "text": [
      "Data type: int32\n"
     ]
    }
   ],
   "source": [
    "x = np.array([1,2,3,4,5], dtype = np.int32)\n",
    "print(\"Data type:\",x.dtype)"
   ]
  },
  {
   "cell_type": "code",
   "execution_count": 9,
   "id": "27b1ae5b",
   "metadata": {},
   "outputs": [
    {
     "name": "stdout",
     "output_type": "stream",
     "text": [
      "Data type: float32\n"
     ]
    }
   ],
   "source": [
    "x = np.array([1,2,3,4,5],dtype=\"f\")\n",
    "print(\"Data type:\",x.dtype)"
   ]
  },
  {
   "cell_type": "code",
   "execution_count": 10,
   "id": "61178bc3",
   "metadata": {},
   "outputs": [
    {
     "name": "stdout",
     "output_type": "stream",
     "text": [
      "Data type: |S1\n"
     ]
    }
   ],
   "source": [
    "x = np.array([1,2,3,4,5],dtype=\"S\")\n",
    "print(\"Data type:\",x.dtype)"
   ]
  },
  {
   "cell_type": "code",
   "execution_count": 11,
   "id": "74a07e3c",
   "metadata": {},
   "outputs": [
    {
     "name": "stdout",
     "output_type": "stream",
     "text": [
      "Data type: <U1\n"
     ]
    }
   ],
   "source": [
    "x = np.array([1,2,3,4,5],dtype=\"U\")\n",
    "print(\"Data type:\",x.dtype)"
   ]
  },
  {
   "cell_type": "code",
   "execution_count": 12,
   "id": "8fc87546",
   "metadata": {},
   "outputs": [
    {
     "name": "stdout",
     "output_type": "stream",
     "text": [
      "Data type: |S1\n"
     ]
    }
   ],
   "source": [
    "x = np.array([1,2,3,4,5],dtype=\"c\")\n",
    "print(\"Data type:\",x.dtype)"
   ]
  },
  {
   "cell_type": "code",
   "execution_count": 13,
   "id": "afa2553c",
   "metadata": {},
   "outputs": [
    {
     "name": "stdout",
     "output_type": "stream",
     "text": [
      "Data type: int8\n"
     ]
    }
   ],
   "source": [
    "x = np.array([1,2,3,4,5],dtype=\"b\")\n",
    "print(\"Data type:\",x.dtype)"
   ]
  },
  {
   "cell_type": "code",
   "execution_count": 15,
   "id": "344b827f",
   "metadata": {},
   "outputs": [
    {
     "name": "stdout",
     "output_type": "stream",
     "text": [
      "Data type: int32\n",
      "Data type new: float32\n",
      "[1. 2. 3. 4.]\n"
     ]
    }
   ],
   "source": [
    "x1 = np.array([1,2,3,4])\n",
    "\n",
    "new = np.float32(x1)\n",
    "print(\"Data type:\",x1.dtype)\n",
    "print(\"Data type new:\",new.dtype)\n",
    "print(new)"
   ]
  },
  {
   "cell_type": "code",
   "execution_count": 17,
   "id": "019d6088",
   "metadata": {},
   "outputs": [
    {
     "name": "stdout",
     "output_type": "stream",
     "text": [
      "Data type: complex128\n",
      "[2.+0.j 3.+0.j 4.+0.j 5.+0.j]\n"
     ]
    }
   ],
   "source": [
    "a = np.array([2,3,4,5])\n",
    "\n",
    "new = np.complex128(a)\n",
    "\n",
    "print(\"Data type:\",new.dtype)\n",
    "print(new)"
   ]
  },
  {
   "cell_type": "markdown",
   "id": "c4de954c",
   "metadata": {},
   "source": [
    "# Arithmetic Operation:-"
   ]
  },
  {
   "cell_type": "code",
   "execution_count": 18,
   "id": "b891612e",
   "metadata": {},
   "outputs": [
    {
     "name": "stdout",
     "output_type": "stream",
     "text": [
      "[4 5 6 7 8]\n"
     ]
    }
   ],
   "source": [
    "import numpy as np\n",
    "\n",
    "# add------------------->\n",
    "\n",
    "var = np.array([1,2,3,4,5])\n",
    "\n",
    "varadd = var+3\n",
    "\n",
    "print(varadd)"
   ]
  },
  {
   "cell_type": "code",
   "execution_count": 19,
   "id": "9e7bd090",
   "metadata": {},
   "outputs": [
    {
     "name": "stdout",
     "output_type": "stream",
     "text": [
      "[ 7  9 11 13 15]\n"
     ]
    }
   ],
   "source": [
    "var1 = np.array([1,2,3,4,5])\n",
    "var2 = np.array([6,7,8,9,10])\n",
    "\n",
    "varadd = var1+var2\n",
    "\n",
    "print(varadd)"
   ]
  },
  {
   "cell_type": "code",
   "execution_count": 20,
   "id": "27988edc",
   "metadata": {},
   "outputs": [
    {
     "name": "stdout",
     "output_type": "stream",
     "text": [
      "[-5 -5 -5 -5 -5]\n"
     ]
    }
   ],
   "source": [
    "# Sub------------------------->\n",
    "\n",
    "var1 = np.array([1,2,3,4,5])\n",
    "var2 = np.array([6,7,8,9,10])\n",
    "\n",
    "varsub = var1-var2\n",
    "\n",
    "print(varsub)\n"
   ]
  },
  {
   "cell_type": "code",
   "execution_count": 21,
   "id": "6dd812a7",
   "metadata": {},
   "outputs": [
    {
     "name": "stdout",
     "output_type": "stream",
     "text": [
      "[-1  0  1  2  3]\n"
     ]
    }
   ],
   "source": [
    "var1 = np.array([1,2,3,4,5])\n",
    "\n",
    "\n",
    "varsub = var1-2\n",
    "\n",
    "print(varsub)"
   ]
  },
  {
   "cell_type": "code",
   "execution_count": 22,
   "id": "3090a8ad",
   "metadata": {},
   "outputs": [
    {
     "name": "stdout",
     "output_type": "stream",
     "text": [
      "[ 6 14 24 36 50]\n"
     ]
    }
   ],
   "source": [
    "# Mul-------------------->\n",
    "\n",
    "var1 = np.array([1,2,3,4,5])\n",
    "var2 = np.array([6,7,8,9,10])\n",
    "\n",
    "varMul = var1*var2\n",
    "\n",
    "print(varMul)"
   ]
  },
  {
   "cell_type": "code",
   "execution_count": 23,
   "id": "5aad33a5",
   "metadata": {},
   "outputs": [
    {
     "name": "stdout",
     "output_type": "stream",
     "text": [
      "[ 4  8 12 16 20]\n"
     ]
    }
   ],
   "source": [
    "var1 = np.array([1,2,3,4,5])\n",
    "\n",
    "\n",
    "varMul = var1*4\n",
    "\n",
    "print(varMul)"
   ]
  },
  {
   "cell_type": "code",
   "execution_count": 24,
   "id": "0d6b9199",
   "metadata": {},
   "outputs": [
    {
     "name": "stdout",
     "output_type": "stream",
     "text": [
      "[0.33333333 0.66666667 1.         1.33333333 1.66666667]\n"
     ]
    }
   ],
   "source": [
    "# Div------------------->\n",
    "\n",
    "var1 = np.array([1,2,3,4,5])\n",
    "\n",
    "\n",
    "vardiv = var1/3\n",
    "\n",
    "print(vardiv)"
   ]
  },
  {
   "cell_type": "code",
   "execution_count": 25,
   "id": "3faed195",
   "metadata": {},
   "outputs": [
    {
     "name": "stdout",
     "output_type": "stream",
     "text": [
      "[0.16666667 0.28571429 0.375      0.44444444 0.5       ]\n"
     ]
    }
   ],
   "source": [
    "var1 = np.array([1,2,3,4,5])\n",
    "var2 = np.array([6,7,8,9,10])\n",
    "\n",
    "vardiv = var1/var2\n",
    "\n",
    "print(vardiv)"
   ]
  },
  {
   "cell_type": "code",
   "execution_count": 27,
   "id": "508928c1",
   "metadata": {},
   "outputs": [
    {
     "name": "stdout",
     "output_type": "stream",
     "text": [
      "[0 1 2 1 0]\n"
     ]
    }
   ],
   "source": [
    "# Mod---------------------->\n",
    "\n",
    "var1 = np.array([1,2,3,4,5])\n",
    "var2 = np.array([6,7,8,9,10])\n",
    "\n",
    "varmod = var2%var1\n",
    "\n",
    "print(varmod)"
   ]
  },
  {
   "cell_type": "code",
   "execution_count": 28,
   "id": "ea15cb31",
   "metadata": {},
   "outputs": [
    {
     "name": "stdout",
     "output_type": "stream",
     "text": [
      "[1 0 1 0 1]\n"
     ]
    }
   ],
   "source": [
    "var1 = np.array([1,2,3,4,5])\n",
    "var2 = np.array([6,7,8,9,10])\n",
    "\n",
    "varmod = var1%2\n",
    "\n",
    "print(varmod)"
   ]
  },
  {
   "cell_type": "code",
   "execution_count": 29,
   "id": "d5d137b6",
   "metadata": {},
   "outputs": [
    {
     "name": "stdout",
     "output_type": "stream",
     "text": [
      "[ 1  4  9 16 25]\n"
     ]
    }
   ],
   "source": [
    "# power----------------->\n",
    "\n",
    "var1 = np.array([1,2,3,4,5])\n",
    "#var2 = np.array([6,7,8,9,10])\n",
    "\n",
    "varpower = var1**2\n",
    "\n",
    "print(varpower)"
   ]
  },
  {
   "cell_type": "code",
   "execution_count": 30,
   "id": "13af1066",
   "metadata": {},
   "outputs": [
    {
     "name": "stdout",
     "output_type": "stream",
     "text": [
      "[      1     128    6561  262144 9765625]\n"
     ]
    }
   ],
   "source": [
    "var1 = np.array([1,2,3,4,5])\n",
    "var2 = np.array([6,7,8,9,10])\n",
    "\n",
    "varpower = var1**var2\n",
    "\n",
    "print(varpower)"
   ]
  },
  {
   "cell_type": "code",
   "execution_count": 31,
   "id": "c604510c",
   "metadata": {},
   "outputs": [
    {
     "name": "stdout",
     "output_type": "stream",
     "text": [
      "[1.         0.5        0.33333333 0.25       0.2       ]\n"
     ]
    }
   ],
   "source": [
    "# reciprocal----------------------->\n",
    "\n",
    "var1 = np.array([1,2,3,4,5])\n",
    "#var2 = np.array([6,7,8,9,10])\n",
    "\n",
    "var = 1/var1\n",
    "\n",
    "print(var)"
   ]
  },
  {
   "cell_type": "code",
   "execution_count": 32,
   "id": "5287b108",
   "metadata": {},
   "outputs": [
    {
     "name": "stdout",
     "output_type": "stream",
     "text": [
      "[5 6 7 8 9]\n"
     ]
    }
   ],
   "source": [
    "# add()------------------->\n",
    "\n",
    "var1 = np.array([1,2,3,4,5])\n",
    "#var2 = np.array([6,7,8,9,10])\n",
    "\n",
    "varadd = np.add(var1,4)\n",
    "\n",
    "print(varadd)"
   ]
  },
  {
   "cell_type": "markdown",
   "id": "cbf51ab6",
   "metadata": {},
   "source": [
    "# 2D Array"
   ]
  },
  {
   "cell_type": "code",
   "execution_count": 38,
   "id": "98a6d8bb",
   "metadata": {},
   "outputs": [
    {
     "name": "stdout",
     "output_type": "stream",
     "text": [
      "[[ 2  4  6  8 10]\n",
      " [12 14 16 18 20]]\n"
     ]
    }
   ],
   "source": [
    "arr21 = np.array([[1,2,3,4,5],[6,7,8,9,10]])\n",
    "arr22 = np.array([[1,2,3,4,5],[6,7,8,9,10]])\n",
    "\n",
    "varadd = arr21 + arr22\n",
    "\n",
    "print(varadd)"
   ]
  },
  {
   "cell_type": "code",
   "execution_count": 39,
   "id": "c3a632dc",
   "metadata": {},
   "outputs": [
    {
     "name": "stdout",
     "output_type": "stream",
     "text": [
      "[1 0 0 0 0]\n"
     ]
    }
   ],
   "source": [
    "var1 = np.array([1,2,3,4,5])\n",
    "\n",
    "var = np.reciprocal(var1)\n",
    "\n",
    "print(var)"
   ]
  },
  {
   "cell_type": "code",
   "execution_count": 44,
   "id": "690c6171",
   "metadata": {},
   "outputs": [
    {
     "name": "stdout",
     "output_type": "stream",
     "text": [
      "Max 5\n",
      "Min 6\n"
     ]
    }
   ],
   "source": [
    "# max() and min()-------------->\n",
    "\n",
    "var1 = np.array([1,2,3,4,5])\n",
    "var2 = np.array([6,7,8,9,10])\n",
    "\n",
    "varmax = np.max(var1)\n",
    "varmin = np.min(var2)\n",
    "\n",
    "print(\"Max\",varmax)\n",
    "print(\"Min\",varmin)"
   ]
  },
  {
   "cell_type": "code",
   "execution_count": 45,
   "id": "20e04d24",
   "metadata": {},
   "outputs": [
    {
     "name": "stdout",
     "output_type": "stream",
     "text": [
      "Max 67\n",
      "Min 8\n"
     ]
    }
   ],
   "source": [
    "var1 = np.array([13,46,67,32,10,-56])\n",
    "var2 = np.array([66,73,8,9,10,34])\n",
    "\n",
    "varmax = np.max(var1)\n",
    "varmin = np.min(var2)\n",
    "\n",
    "print(\"Max\",varmax)\n",
    "print(\"Min\",varmin)"
   ]
  },
  {
   "cell_type": "code",
   "execution_count": 46,
   "id": "973ba5d5",
   "metadata": {},
   "outputs": [
    {
     "name": "stdout",
     "output_type": "stream",
     "text": [
      "Argmin 0\n"
     ]
    }
   ],
   "source": [
    "# argmin() and argmax()------------------>\n",
    "\n",
    "var1 = np.array([1,2,3,4,5])\n",
    "\n",
    "var = np.argmin(var1)\n",
    "print(\"Argmin\",var)"
   ]
  },
  {
   "cell_type": "code",
   "execution_count": 47,
   "id": "f1b79ec4",
   "metadata": {},
   "outputs": [
    {
     "name": "stdout",
     "output_type": "stream",
     "text": [
      "Argmax 4\n"
     ]
    }
   ],
   "source": [
    "var1 = np.array([1,2,3,4,5])\n",
    "\n",
    "var = np.argmax(var1)\n",
    "print(\"Argmax\",var)"
   ]
  },
  {
   "cell_type": "code",
   "execution_count": 48,
   "id": "67616361",
   "metadata": {},
   "outputs": [
    {
     "name": "stdout",
     "output_type": "stream",
     "text": [
      "Argmin 1\n"
     ]
    }
   ],
   "source": [
    "var1 = np.array([45,23,65,32,78,212])\n",
    "\n",
    "var = np.argmin(var1)\n",
    "print(\"Argmin\",var)"
   ]
  },
  {
   "cell_type": "code",
   "execution_count": 49,
   "id": "abaef4d3",
   "metadata": {},
   "outputs": [
    {
     "name": "stdout",
     "output_type": "stream",
     "text": [
      "Argmax 3\n"
     ]
    }
   ],
   "source": [
    "var1 = np.array([45,23,65,212,78,32])\n",
    "\n",
    "var = np.argmax(var1)\n",
    "print(\"Argmax\",var)"
   ]
  },
  {
   "cell_type": "code",
   "execution_count": 51,
   "id": "1991c8c0",
   "metadata": {},
   "outputs": [
    {
     "name": "stdout",
     "output_type": "stream",
     "text": [
      "SQRT [ 6.70820393  4.79583152  8.06225775  5.65685425  8.83176087 14.56021978]\n",
      "float64\n"
     ]
    }
   ],
   "source": [
    "# sqrt()---------------->\n",
    "\n",
    "var1 = np.array([45,23,65,32,78,212])\n",
    "\n",
    "var = np.sqrt(var1)\n",
    "print(\"SQRT\",var)\n",
    "print(var.dtype)"
   ]
  },
  {
   "cell_type": "code",
   "execution_count": 54,
   "id": "5c8d9344",
   "metadata": {},
   "outputs": [
    {
     "name": "stdout",
     "output_type": "stream",
     "text": [
      "Sin [-0.7568025  -0.95892427  0.14112001  0.98935825  0.90929743]\n",
      "float64\n"
     ]
    }
   ],
   "source": [
    "# sin()---------------->\n",
    "\n",
    "var1 = np.array([4,5,3,8,2])\n",
    "\n",
    "var = np.sin(var1)\n",
    "print(\"Sin\",var)\n",
    "print(var.dtype)"
   ]
  },
  {
   "cell_type": "code",
   "execution_count": 56,
   "id": "a493626f",
   "metadata": {},
   "outputs": [
    {
     "name": "stdout",
     "output_type": "stream",
     "text": [
      "Cos [-0.65364362  0.96017029 -0.9899925  -0.14550003 -0.41614684]\n"
     ]
    }
   ],
   "source": [
    "# cos()--------------->\n",
    "\n",
    "var1 = np.array([4,6,3,8,2])\n",
    "\n",
    "var = np.cos(var1)\n",
    "print(\"Cos\",var)"
   ]
  },
  {
   "cell_type": "code",
   "execution_count": 58,
   "id": "37119d39",
   "metadata": {},
   "outputs": [
    {
     "name": "stdout",
     "output_type": "stream",
     "text": [
      "Cumsum [ 4 10 13 21 23]\n",
      "int32\n"
     ]
    }
   ],
   "source": [
    "# np.cumsum(x)------------->\n",
    "var1 = np.array([4,6,3,8,2])\n",
    "\n",
    "var = np.cumsum(var1)\n",
    "print(\"Cumsum\",var)\n",
    "print(var.dtype)"
   ]
  },
  {
   "cell_type": "markdown",
   "id": "26b95255",
   "metadata": {},
   "source": [
    "# Axis = 1"
   ]
  },
  {
   "cell_type": "code",
   "execution_count": 59,
   "id": "8fe1c486",
   "metadata": {},
   "outputs": [
    {
     "name": "stdout",
     "output_type": "stream",
     "text": [
      "Min [2 2]\n"
     ]
    }
   ],
   "source": [
    "var1 = np.array([[4,6,3,8,2],[4,3,6,43,2]])\n",
    "\n",
    "var = np.min(var1,axis = 1)\n",
    "print(\"Min\",var)"
   ]
  },
  {
   "cell_type": "markdown",
   "id": "4a54b9ed",
   "metadata": {},
   "source": [
    "# Axis = 0"
   ]
  },
  {
   "cell_type": "code",
   "execution_count": 60,
   "id": "c663a477",
   "metadata": {},
   "outputs": [
    {
     "name": "stdout",
     "output_type": "stream",
     "text": [
      "Max [ 4  6  6 43  2]\n"
     ]
    }
   ],
   "source": [
    "var1 = np.array([[4,6,3,8,2],[4,3,6,43,2]])\n",
    "\n",
    "var = np.max(var1,axis = 0)\n",
    "print(\"Max\",var)"
   ]
  },
  {
   "cell_type": "code",
   "execution_count": 61,
   "id": "208d3690",
   "metadata": {},
   "outputs": [
    {
     "name": "stdout",
     "output_type": "stream",
     "text": [
      "Min [4 3 3 8 2]\n"
     ]
    }
   ],
   "source": [
    "var1 = np.array([[4,6,3,8,2],[4,3,6,43,2]])\n",
    "\n",
    "var = np.min(var1,axis = 0)\n",
    "print(\"Min\",var)"
   ]
  },
  {
   "cell_type": "code",
   "execution_count": 62,
   "id": "9bc3cfe6",
   "metadata": {},
   "outputs": [
    {
     "name": "stdout",
     "output_type": "stream",
     "text": [
      "Min 2\n"
     ]
    }
   ],
   "source": [
    "var1 = np.array([4,6,3,8,2])\n",
    "\n",
    "var = np.min(var1,axis = 0)\n",
    "print(\"Min\",var)"
   ]
  },
  {
   "cell_type": "markdown",
   "id": "e12abb18",
   "metadata": {},
   "source": [
    "# Shape"
   ]
  },
  {
   "cell_type": "code",
   "execution_count": 63,
   "id": "c5cd4236",
   "metadata": {},
   "outputs": [
    {
     "name": "stdout",
     "output_type": "stream",
     "text": [
      "[[1 2]\n",
      " [1 2]]\n",
      "\n",
      "Shape: (2, 2)\n"
     ]
    }
   ],
   "source": [
    "arr = np.array([[1,2],[1,2]])\n",
    "\n",
    "print(arr)\n",
    "print()\n",
    "print(\"Shape:\",arr.shape)"
   ]
  },
  {
   "cell_type": "code",
   "execution_count": 64,
   "id": "0af97229",
   "metadata": {},
   "outputs": [
    {
     "name": "stdout",
     "output_type": "stream",
     "text": [
      "[[1 2]\n",
      " [1 2]\n",
      " [3 5]]\n",
      "\n",
      "Shape: (3, 2)\n"
     ]
    }
   ],
   "source": [
    "arr = np.array([[1,2],[1,2],[3,5]])\n",
    "\n",
    "print(arr)\n",
    "print()\n",
    "print(\"Shape:\",arr.shape)"
   ]
  },
  {
   "cell_type": "code",
   "execution_count": 65,
   "id": "074afe28",
   "metadata": {},
   "outputs": [
    {
     "name": "stdout",
     "output_type": "stream",
     "text": [
      "[[1 2 3]\n",
      " [1 2 4]\n",
      " [3 5 6]]\n",
      "\n",
      "Shape: (3, 3)\n"
     ]
    }
   ],
   "source": [
    "arr = np.array([[1,2,3],[1,2,4],[3,5,6]])\n",
    "\n",
    "print(arr)\n",
    "print()\n",
    "print(\"Shape:\",arr.shape)"
   ]
  },
  {
   "cell_type": "code",
   "execution_count": 69,
   "id": "873432f4",
   "metadata": {},
   "outputs": [
    {
     "name": "stdout",
     "output_type": "stream",
     "text": [
      "[[[[1 2 3 5]]]]\n",
      "\n",
      "Shape: (1, 1, 1, 4)\n",
      "\n",
      "4\n"
     ]
    }
   ],
   "source": [
    "arr = np.array([1,2,3,5],ndmin = 4)\n",
    "\n",
    "print(arr)\n",
    "print()\n",
    "print(\"Shape:\",arr.shape)\n",
    "print()\n",
    "print(arr.ndim)"
   ]
  },
  {
   "cell_type": "markdown",
   "id": "ecf33faf",
   "metadata": {},
   "source": [
    "# Reshape"
   ]
  },
  {
   "cell_type": "code",
   "execution_count": 72,
   "id": "23211368",
   "metadata": {},
   "outputs": [
    {
     "name": "stdout",
     "output_type": "stream",
     "text": [
      "[1 2 3 4 5 6]\n",
      "\n",
      "[[1 2]\n",
      " [3 4]\n",
      " [5 6]]\n"
     ]
    }
   ],
   "source": [
    "arr1 = np.array([1,2,3,4,5,6])\n",
    "\n",
    "print(arr1)\n",
    "print()\n",
    "x = arr1.reshape(3,2)         # arr.reshape(number of rows,number of elements)\n",
    "print(x)"
   ]
  },
  {
   "cell_type": "code",
   "execution_count": 73,
   "id": "c9a86901",
   "metadata": {},
   "outputs": [
    {
     "name": "stdout",
     "output_type": "stream",
     "text": [
      "[ 1  2  3  4  5  6  7  8  9 10 11 12]\n",
      "1\n",
      "\n",
      "[[[ 1  2]\n",
      "  [ 3  4]\n",
      "  [ 5  6]]\n",
      "\n",
      " [[ 7  8]\n",
      "  [ 9 10]\n",
      "  [11 12]]]\n",
      "3\n"
     ]
    }
   ],
   "source": [
    "arr2 = np.array([1,2,3,4,5,6,7,8,9,10,11,12])\n",
    "print(arr2)\n",
    "print(arr2.ndim)\n",
    "print()\n",
    "nw = arr2.reshape(2,3,2)\n",
    "print(nw)\n",
    "print(nw.ndim)"
   ]
  },
  {
   "cell_type": "markdown",
   "id": "04ffb01f",
   "metadata": {},
   "source": [
    "# Broadcasting "
   ]
  },
  {
   "cell_type": "code",
   "execution_count": 74,
   "id": "d3bc6d59",
   "metadata": {},
   "outputs": [
    {
     "ename": "ValueError",
     "evalue": "operands could not be broadcast together with shapes (4,) (3,) ",
     "output_type": "error",
     "traceback": [
      "\u001b[1;31m---------------------------------------------------------------------------\u001b[0m",
      "\u001b[1;31mValueError\u001b[0m                                Traceback (most recent call last)",
      "Cell \u001b[1;32mIn[74], line 5\u001b[0m\n\u001b[0;32m      3\u001b[0m arr1 \u001b[38;5;241m=\u001b[39m np\u001b[38;5;241m.\u001b[39marray([\u001b[38;5;241m1\u001b[39m,\u001b[38;5;241m2\u001b[39m,\u001b[38;5;241m3\u001b[39m,\u001b[38;5;241m4\u001b[39m])\n\u001b[0;32m      4\u001b[0m arr2 \u001b[38;5;241m=\u001b[39m np\u001b[38;5;241m.\u001b[39marray([\u001b[38;5;241m1\u001b[39m,\u001b[38;5;241m2\u001b[39m,\u001b[38;5;241m3\u001b[39m])\n\u001b[1;32m----> 5\u001b[0m \u001b[38;5;28mprint\u001b[39m(\u001b[43marr1\u001b[49m\u001b[38;5;241;43m+\u001b[39;49m\u001b[43marr2\u001b[49m)\n",
      "\u001b[1;31mValueError\u001b[0m: operands could not be broadcast together with shapes (4,) (3,) "
     ]
    }
   ],
   "source": [
    "import numpy as np\n",
    "\n",
    "arr1 = np.array([1,2,3,4])\n",
    "arr2 = np.array([1,2,3])\n",
    "print(arr1+arr2)"
   ]
  },
  {
   "cell_type": "code",
   "execution_count": 75,
   "id": "6f6d8c7d",
   "metadata": {},
   "outputs": [
    {
     "name": "stdout",
     "output_type": "stream",
     "text": [
      "[2 4 6 8]\n"
     ]
    }
   ],
   "source": [
    "arr1 = np.array([1,2,3,4])\n",
    "arr2 = np.array([1,2,3,4])\n",
    "print(arr1+arr2)"
   ]
  },
  {
   "cell_type": "code",
   "execution_count": 80,
   "id": "a8f1f6d0",
   "metadata": {},
   "outputs": [
    {
     "name": "stdout",
     "output_type": "stream",
     "text": [
      "(3,)\n",
      "\n",
      "[1 2 3]\n",
      "\n",
      "(3, 1)\n",
      "\n",
      "[[1]\n",
      " [2]\n",
      " [3]]\n",
      "\n",
      "add: [[2 3 4]\n",
      " [3 4 5]\n",
      " [4 5 6]]\n"
     ]
    }
   ],
   "source": [
    "arr1 = np.array([1,2,3])\n",
    "print(arr1.shape)\n",
    "print()\n",
    "print(arr1)\n",
    "print()\n",
    "\n",
    "arr2 = np.array([[1],[2],[3]])\n",
    "print(arr2.shape)\n",
    "print()\n",
    "print(arr2)\n",
    "print()\n",
    "\n",
    "print(\"add:\",arr1+arr2)"
   ]
  },
  {
   "cell_type": "code",
   "execution_count": 82,
   "id": "b1e00920",
   "metadata": {},
   "outputs": [
    {
     "name": "stdout",
     "output_type": "stream",
     "text": [
      "(3,)\n",
      "\n",
      "[1 2 3]\n",
      "\n",
      "(3, 1)\n",
      "\n",
      "[[1]\n",
      " [2]\n",
      " [3]]\n",
      "\n",
      "add: [[2 3 4]\n",
      " [3 4 5]\n",
      " [4 5 6]]\n"
     ]
    }
   ],
   "source": [
    "arr1 = np.array([1,2,3])\n",
    "print(arr1.shape)\n",
    "print()\n",
    "print(arr1)\n",
    "print()\n",
    "\n",
    "arr2 = np.array([[1],[2],[3]])\n",
    "print(arr2.shape)\n",
    "print()\n",
    "print(arr2)\n",
    "print()\n",
    "\n",
    "print(\"add:\",arr1+arr2)"
   ]
  },
  {
   "cell_type": "code",
   "execution_count": 84,
   "id": "31ebccea",
   "metadata": {},
   "outputs": [
    {
     "name": "stdout",
     "output_type": "stream",
     "text": [
      "(2, 1)\n",
      "(2, 3)\n",
      "\n",
      "[[2 3 4]\n",
      " [3 4 5]]\n"
     ]
    }
   ],
   "source": [
    "x = np.array([[1],[2]])\n",
    "print(x.shape)\n",
    "\n",
    "y = np.array([[1,2,3],[1,2,3]])\n",
    "print(y.shape)\n",
    "\n",
    "print()\n",
    "print(x+y)"
   ]
  },
  {
   "cell_type": "markdown",
   "id": "ae657560",
   "metadata": {},
   "source": [
    "# Indexing"
   ]
  },
  {
   "cell_type": "code",
   "execution_count": 1,
   "id": "d17b30e7",
   "metadata": {},
   "outputs": [
    {
     "name": "stdout",
     "output_type": "stream",
     "text": [
      "6\n"
     ]
    }
   ],
   "source": [
    "# 1D-------------->\n",
    "\n",
    "import numpy as np\n",
    "\n",
    "arr = np.array([8,6,5,9])\n",
    "print(arr[1])"
   ]
  },
  {
   "cell_type": "code",
   "execution_count": 2,
   "id": "d5d3e48f",
   "metadata": {},
   "outputs": [
    {
     "name": "stdout",
     "output_type": "stream",
     "text": [
      "5\n"
     ]
    }
   ],
   "source": [
    "print(arr[-2])"
   ]
  },
  {
   "cell_type": "code",
   "execution_count": 5,
   "id": "bf0df167",
   "metadata": {},
   "outputs": [
    {
     "name": "stdout",
     "output_type": "stream",
     "text": [
      "[[3 4 6]\n",
      " [7 5 8]]\n",
      "2\n",
      "\n",
      "6\n"
     ]
    }
   ],
   "source": [
    "# 2D---------------->\n",
    "\n",
    "arr1 = np.array([[3,4,6],[7,5,8]])\n",
    "print(arr1)\n",
    "print(arr1.ndim)\n",
    "print()\n",
    "print(arr1[0,2])"
   ]
  },
  {
   "cell_type": "code",
   "execution_count": 6,
   "id": "90c4dc08",
   "metadata": {},
   "outputs": [
    {
     "name": "stdout",
     "output_type": "stream",
     "text": [
      "5\n"
     ]
    }
   ],
   "source": [
    "print(arr1[1,1])"
   ]
  },
  {
   "cell_type": "code",
   "execution_count": 7,
   "id": "a0e1ac91",
   "metadata": {},
   "outputs": [
    {
     "name": "stdout",
     "output_type": "stream",
     "text": [
      "[[[3 5 6]\n",
      "  [7 8 9]\n",
      "  [4 2 1]]]\n",
      "3\n",
      "\n",
      "[4 2 1]\n"
     ]
    }
   ],
   "source": [
    "# 3D---------------->\n",
    "\n",
    "arr2 = np.array([[[3,5,6],[7,8,9],[4,2,1]]])\n",
    "print(arr2)\n",
    "print(arr2.ndim)\n",
    "print()\n",
    "print(arr2[0,2])"
   ]
  },
  {
   "cell_type": "code",
   "execution_count": 8,
   "id": "adc711fc",
   "metadata": {},
   "outputs": [
    {
     "name": "stdout",
     "output_type": "stream",
     "text": [
      "6\n"
     ]
    }
   ],
   "source": [
    "print(arr2[0,0,2])"
   ]
  },
  {
   "cell_type": "code",
   "execution_count": 9,
   "id": "cd36b1d6",
   "metadata": {},
   "outputs": [
    {
     "name": "stdout",
     "output_type": "stream",
     "text": [
      "8\n"
     ]
    }
   ],
   "source": [
    "print(arr2[0,1,1])"
   ]
  },
  {
   "cell_type": "code",
   "execution_count": 10,
   "id": "fb69c4ae",
   "metadata": {},
   "outputs": [
    {
     "name": "stdout",
     "output_type": "stream",
     "text": [
      "1\n"
     ]
    }
   ],
   "source": [
    "print(arr2[0,2,2])"
   ]
  },
  {
   "cell_type": "code",
   "execution_count": 11,
   "id": "68655bca",
   "metadata": {},
   "outputs": [
    {
     "name": "stdout",
     "output_type": "stream",
     "text": [
      "3\n"
     ]
    }
   ],
   "source": [
    "print(arr2[0,0,0])"
   ]
  },
  {
   "cell_type": "markdown",
   "id": "d2929a15",
   "metadata": {},
   "source": [
    "# Slicing NumPy Arrays\n"
   ]
  },
  {
   "cell_type": "code",
   "execution_count": 12,
   "id": "65009d26",
   "metadata": {},
   "outputs": [
    {
     "name": "stdout",
     "output_type": "stream",
     "text": [
      "[1 2 3 4 5 6 7]\n",
      "\n",
      "int32\n"
     ]
    }
   ],
   "source": [
    "# 1D----------->\n",
    "\n",
    "x = np.array([1,2,3,4,5,6,7])\n",
    "print(x)\n",
    "print()\n",
    "print(x.type)"
   ]
  },
  {
   "cell_type": "code",
   "execution_count": 13,
   "id": "37efb007",
   "metadata": {},
   "outputs": [
    {
     "name": "stdout",
     "output_type": "stream",
     "text": [
      "<class 'numpy.ndarray'>\n"
     ]
    }
   ],
   "source": [
    "print(type(x))"
   ]
  },
  {
   "cell_type": "code",
   "execution_count": 14,
   "id": "2799ee7e",
   "metadata": {},
   "outputs": [
    {
     "name": "stdout",
     "output_type": "stream",
     "text": [
      "2 to 5: [2 3 4 5]\n"
     ]
    }
   ],
   "source": [
    "print(\"2 to 5:\",x[1:5])"
   ]
  },
  {
   "cell_type": "code",
   "execution_count": 15,
   "id": "5e92efe8",
   "metadata": {},
   "outputs": [
    {
     "name": "stdout",
     "output_type": "stream",
     "text": [
      "[1 2 3]\n"
     ]
    }
   ],
   "source": [
    "print(x[0:3])"
   ]
  },
  {
   "cell_type": "code",
   "execution_count": 16,
   "id": "095eceef",
   "metadata": {},
   "outputs": [
    {
     "name": "stdout",
     "output_type": "stream",
     "text": [
      "[1 3 5]\n"
     ]
    }
   ],
   "source": [
    "print(x[0:6:2])"
   ]
  },
  {
   "cell_type": "code",
   "execution_count": 17,
   "id": "cd69a2c7",
   "metadata": {},
   "outputs": [
    {
     "name": "stdout",
     "output_type": "stream",
     "text": [
      "[2 3 4 5 6 7]\n"
     ]
    }
   ],
   "source": [
    "print(x[1:])"
   ]
  },
  {
   "cell_type": "code",
   "execution_count": 18,
   "id": "e2c6e619",
   "metadata": {},
   "outputs": [
    {
     "name": "stdout",
     "output_type": "stream",
     "text": [
      "[1 2 3 4 5 6 7]\n"
     ]
    }
   ],
   "source": [
    "print(x[:])"
   ]
  },
  {
   "cell_type": "code",
   "execution_count": 19,
   "id": "49f145e6",
   "metadata": {},
   "outputs": [
    {
     "name": "stdout",
     "output_type": "stream",
     "text": [
      "[1 2 3 4]\n"
     ]
    }
   ],
   "source": [
    "print(x[:4])"
   ]
  },
  {
   "cell_type": "code",
   "execution_count": 20,
   "id": "68f3ffca",
   "metadata": {},
   "outputs": [
    {
     "name": "stdout",
     "output_type": "stream",
     "text": [
      "[1 2 3 4 5 6 7]\n"
     ]
    }
   ],
   "source": [
    "print(x[::])"
   ]
  },
  {
   "cell_type": "code",
   "execution_count": 21,
   "id": "78fd89db",
   "metadata": {},
   "outputs": [
    {
     "name": "stdout",
     "output_type": "stream",
     "text": [
      "[1 2 3 4 5 6]\n"
     ]
    }
   ],
   "source": [
    "print(x[:-1])"
   ]
  },
  {
   "cell_type": "code",
   "execution_count": 22,
   "id": "325b6943",
   "metadata": {},
   "outputs": [
    {
     "name": "stdout",
     "output_type": "stream",
     "text": [
      "[]\n"
     ]
    }
   ],
   "source": [
    "print(x[-1:-6])"
   ]
  },
  {
   "cell_type": "code",
   "execution_count": 23,
   "id": "96ece5f1",
   "metadata": {},
   "outputs": [
    {
     "name": "stdout",
     "output_type": "stream",
     "text": [
      "[]\n"
     ]
    }
   ],
   "source": [
    "print(x[-1:1])"
   ]
  },
  {
   "cell_type": "code",
   "execution_count": 24,
   "id": "12084749",
   "metadata": {},
   "outputs": [
    {
     "name": "stdout",
     "output_type": "stream",
     "text": [
      "[1 2 3 4 5 6]\n"
     ]
    }
   ],
   "source": [
    "print(x[0:-1])"
   ]
  },
  {
   "cell_type": "code",
   "execution_count": 26,
   "id": "021ed9d9",
   "metadata": {},
   "outputs": [
    {
     "name": "stdout",
     "output_type": "stream",
     "text": [
      "[2 3]\n"
     ]
    }
   ],
   "source": [
    "# 2D--------->\n",
    "\n",
    "y = np.array([[1,2,3],[4,5,6]])\n",
    "print(y[0,1:])"
   ]
  },
  {
   "cell_type": "code",
   "execution_count": 27,
   "id": "71715179",
   "metadata": {},
   "outputs": [
    {
     "name": "stdout",
     "output_type": "stream",
     "text": [
      "[1]\n"
     ]
    }
   ],
   "source": [
    "y = np.array([[1,2,3],[4,5,6]])\n",
    "print(y[0,0:1])"
   ]
  },
  {
   "cell_type": "code",
   "execution_count": 29,
   "id": "d955199a",
   "metadata": {},
   "outputs": [
    {
     "name": "stdout",
     "output_type": "stream",
     "text": [
      "[4 5 6]\n"
     ]
    }
   ],
   "source": [
    "print(y[1,0:3])"
   ]
  },
  {
   "cell_type": "code",
   "execution_count": 32,
   "id": "9a609908",
   "metadata": {},
   "outputs": [
    {
     "name": "stdout",
     "output_type": "stream",
     "text": [
      "[[1 2 3]\n",
      " [4 5 6]\n",
      " [7 6 8]]\n",
      "[2 3]\n"
     ]
    }
   ],
   "source": [
    "# 3D------------->\n",
    "\n",
    "z = np.array([[1,2,3],[4,5,6],[7,6,8]])\n",
    "print(z)\n",
    "\n",
    "print(z[0,1:])"
   ]
  },
  {
   "cell_type": "code",
   "execution_count": 33,
   "id": "0bbd9ebf",
   "metadata": {},
   "outputs": [
    {
     "name": "stdout",
     "output_type": "stream",
     "text": [
      "[6 8]\n"
     ]
    }
   ],
   "source": [
    "print(z[2,1:])"
   ]
  },
  {
   "cell_type": "code",
   "execution_count": 34,
   "id": "759bf2b7",
   "metadata": {},
   "outputs": [
    {
     "name": "stdout",
     "output_type": "stream",
     "text": [
      "[4 5 6]\n"
     ]
    }
   ],
   "source": [
    "print(z[1,0:])"
   ]
  },
  {
   "cell_type": "markdown",
   "id": "dac8337b",
   "metadata": {},
   "source": [
    "# Iterating NumPy Arrays "
   ]
  },
  {
   "cell_type": "code",
   "execution_count": 35,
   "id": "5e28d120",
   "metadata": {},
   "outputs": [
    {
     "name": "stdout",
     "output_type": "stream",
     "text": [
      "2\n",
      "3\n",
      "4\n",
      "5\n",
      "6\n"
     ]
    }
   ],
   "source": [
    "x = [2,3,4,5,6]\n",
    "for i in x:\n",
    "    print(i)"
   ]
  },
  {
   "cell_type": "code",
   "execution_count": 36,
   "id": "d6f69779",
   "metadata": {},
   "outputs": [
    {
     "name": "stdout",
     "output_type": "stream",
     "text": [
      "3\n",
      "4\n",
      "5\n",
      "7\n",
      "6\n"
     ]
    }
   ],
   "source": [
    "# 1D------------>\n",
    "\n",
    "import numpy as np\n",
    "\n",
    "arr = np.array([3,4,5,7,6])\n",
    "for i in arr:\n",
    "    print(i)"
   ]
  },
  {
   "cell_type": "code",
   "execution_count": 37,
   "id": "9504b1a7",
   "metadata": {},
   "outputs": [
    {
     "name": "stdout",
     "output_type": "stream",
     "text": [
      "[2 3 4 5]\n",
      "[6 7 9 8]\n"
     ]
    }
   ],
   "source": [
    "# 2D--------------->\n",
    "\n",
    "arr1 = np.array([[2,3,4,5],[6,7,9,8]])\n",
    "for i in arr1:\n",
    "    print(i)"
   ]
  },
  {
   "cell_type": "code",
   "execution_count": 38,
   "id": "5f6b05f1",
   "metadata": {},
   "outputs": [
    {
     "name": "stdout",
     "output_type": "stream",
     "text": [
      "2\n",
      "3\n",
      "4\n",
      "5\n",
      "6\n",
      "7\n",
      "9\n",
      "8\n"
     ]
    }
   ],
   "source": [
    "for k in arr1:\n",
    "    for l in k:\n",
    "        print(l)"
   ]
  },
  {
   "cell_type": "code",
   "execution_count": 40,
   "id": "3b83798b",
   "metadata": {},
   "outputs": [
    {
     "name": "stdout",
     "output_type": "stream",
     "text": [
      "[[[1 2 3 4]\n",
      "  [5 4 6 7]\n",
      "  [9 7 6 8]]]\n",
      "2\n",
      "\n",
      "[[1 2 3 4]\n",
      " [5 4 6 7]\n",
      " [9 7 6 8]]\n",
      "1\n",
      "2\n",
      "3\n",
      "4\n",
      "5\n",
      "4\n",
      "6\n",
      "7\n",
      "9\n",
      "7\n",
      "6\n",
      "8\n"
     ]
    }
   ],
   "source": [
    "# 3D--------------->\n",
    "\n",
    "arr2 = np.array([[[1,2,3,4],[5,4,6,7],[9,7,6,8]]])\n",
    "print(arr2)\n",
    "print(arr1.ndim)\n",
    "print()\n",
    "\n",
    "for i in arr2:\n",
    "    print(i)\n",
    "    for j in i:\n",
    "        for k in j:\n",
    "            print(k)"
   ]
  },
  {
   "cell_type": "code",
   "execution_count": 41,
   "id": "ec234603",
   "metadata": {},
   "outputs": [
    {
     "name": "stdout",
     "output_type": "stream",
     "text": [
      "[[[1 2 3 4]\n",
      "  [5 4 6 7]\n",
      "  [9 7 6 8]]]\n",
      "2\n",
      "\n",
      "1\n",
      "2\n",
      "3\n",
      "4\n",
      "5\n",
      "4\n",
      "6\n",
      "7\n",
      "9\n",
      "7\n",
      "6\n",
      "8\n"
     ]
    }
   ],
   "source": [
    "# nditer()-------------->\n",
    "\n",
    "arr2 = np.array([[[1,2,3,4],[5,4,6,7],[9,7,6,8]]])\n",
    "print(arr2)\n",
    "print(arr1.ndim)\n",
    "print()\n",
    "\n",
    "for i in np.nditer(arr2):\n",
    "    print(i)\n",
    "    "
   ]
  },
  {
   "cell_type": "code",
   "execution_count": 42,
   "id": "68ca782b",
   "metadata": {},
   "outputs": [
    {
     "name": "stdout",
     "output_type": "stream",
     "text": [
      "[[[1 2 3 4]\n",
      "  [5 4 6 7]\n",
      "  [9 7 6 8]]]\n",
      "2\n",
      "\n",
      "b'1'\n",
      "b'2'\n",
      "b'3'\n",
      "b'4'\n",
      "b'5'\n",
      "b'4'\n",
      "b'6'\n",
      "b'7'\n",
      "b'9'\n",
      "b'7'\n",
      "b'6'\n",
      "b'8'\n"
     ]
    }
   ],
   "source": [
    "arr2 = np.array([[[1,2,3,4],[5,4,6,7],[9,7,6,8]]])\n",
    "print(arr2)\n",
    "print(arr1.ndim)\n",
    "print()\n",
    "\n",
    "for i in np.nditer(arr2,flags = ['buffered'],op_dtypes=[\"S\"]):\n",
    "    print(i)\n",
    "    "
   ]
  },
  {
   "cell_type": "code",
   "execution_count": 44,
   "id": "77ea20f7",
   "metadata": {},
   "outputs": [
    {
     "name": "stdout",
     "output_type": "stream",
     "text": [
      "[[[1 2 3 4]\n",
      "  [5 4 6 7]\n",
      "  [9 7 6 8]]]\n",
      "2\n",
      "\n",
      "(0, 0, 0) 1\n",
      "(0, 0, 1) 2\n",
      "(0, 0, 2) 3\n",
      "(0, 0, 3) 4\n",
      "(0, 1, 0) 5\n",
      "(0, 1, 1) 4\n",
      "(0, 1, 2) 6\n",
      "(0, 1, 3) 7\n",
      "(0, 2, 0) 9\n",
      "(0, 2, 1) 7\n",
      "(0, 2, 2) 6\n",
      "(0, 2, 3) 8\n"
     ]
    }
   ],
   "source": [
    "# ndenumerate()----------->\n",
    "\n",
    "arr2 = np.array([[[1,2,3,4],[5,4,6,7],[9,7,6,8]]])\n",
    "print(arr2)\n",
    "print(arr1.ndim)\n",
    "print()\n",
    "\n",
    "for i,d in np.ndenumerate(arr2):\n",
    "    print(i,d)"
   ]
  },
  {
   "cell_type": "markdown",
   "id": "85422d4e",
   "metadata": {},
   "source": [
    "# Copy vs View in NumPy Arrays"
   ]
  },
  {
   "cell_type": "code",
   "execution_count": 45,
   "id": "6c52ddd4",
   "metadata": {},
   "outputs": [
    {
     "name": "stdout",
     "output_type": "stream",
     "text": [
      "var [1 2 3 4 5]\n",
      "copy [1 2 3 4 5]\n"
     ]
    }
   ],
   "source": [
    "import numpy as np\n",
    "\n",
    "var = np.array([1,2,3,4,5])\n",
    "\n",
    "co = var.copy()\n",
    "print(\"var\",var)\n",
    "print(\"copy\",co)"
   ]
  },
  {
   "cell_type": "code",
   "execution_count": 46,
   "id": "fbf86c79",
   "metadata": {},
   "outputs": [
    {
     "name": "stdout",
     "output_type": "stream",
     "text": [
      "Var [3 4 6 7]\n",
      "View [3 4 6 7]\n"
     ]
    }
   ],
   "source": [
    "v = np.array([3,4,6,7])\n",
    "vi = v.view()\n",
    "print(\"Var\",v)\n",
    "print(\"View\",vi)"
   ]
  },
  {
   "cell_type": "markdown",
   "id": "048c87c1",
   "metadata": {},
   "source": [
    "# Difference between copy and view"
   ]
  },
  {
   "cell_type": "code",
   "execution_count": 47,
   "id": "fbbf657e",
   "metadata": {},
   "outputs": [
    {
     "name": "stdout",
     "output_type": "stream",
     "text": [
      "var [ 1 40  3  4  5]\n",
      "copy [1 2 3 4 5]\n"
     ]
    }
   ],
   "source": [
    "var = np.array([1,2,3,4,5])\n",
    "\n",
    "co = var.copy()\n",
    "var[1]=40\n",
    "print(\"var\",var)\n",
    "print(\"copy\",co)"
   ]
  },
  {
   "cell_type": "code",
   "execution_count": 48,
   "id": "634bf274",
   "metadata": {},
   "outputs": [
    {
     "name": "stdout",
     "output_type": "stream",
     "text": [
      "Var [ 3 50  6  7]\n",
      "View [ 3 50  6  7]\n"
     ]
    }
   ],
   "source": [
    "v = np.array([3,4,6,7])\n",
    "vi = v.view()\n",
    "v[1]=50\n",
    "print(\"Var\",v)\n",
    "print(\"View\",vi)"
   ]
  },
  {
   "cell_type": "code",
   "execution_count": 49,
   "id": "037fa0a0",
   "metadata": {},
   "outputs": [
    {
     "name": "stdout",
     "output_type": "stream",
     "text": [
      "var [1 2 3 4 5]\n",
      "copy [ 1 60  3  4  5]\n"
     ]
    }
   ],
   "source": [
    "var = np.array([1,2,3,4,5])\n",
    "\n",
    "co = var.copy()\n",
    "co[1]=60\n",
    "print(\"var\",var)\n",
    "print(\"copy\",co)"
   ]
  },
  {
   "cell_type": "code",
   "execution_count": 50,
   "id": "22123414",
   "metadata": {},
   "outputs": [
    {
     "name": "stdout",
     "output_type": "stream",
     "text": [
      "Var [ 3 30  6  7]\n",
      "View [ 3 30  6  7]\n"
     ]
    }
   ],
   "source": [
    "v = np.array([3,4,6,7])\n",
    "vi = v.view()\n",
    "vi[1]=30\n",
    "print(\"Var\",v)\n",
    "print(\"View\",vi)"
   ]
  },
  {
   "cell_type": "markdown",
   "id": "08e99b68",
   "metadata": {},
   "source": [
    "# Join and Spilt Functions"
   ]
  },
  {
   "cell_type": "code",
   "execution_count": 51,
   "id": "0ce527f0",
   "metadata": {},
   "outputs": [
    {
     "name": "stdout",
     "output_type": "stream",
     "text": [
      "[1 2 3 4 4 5 7 8]\n"
     ]
    }
   ],
   "source": [
    "import numpy as np\n",
    "\n",
    "var = np.array([1,2,3,4])\n",
    "var1 = np.array([4,5,7,8])\n",
    "\n",
    "ar = np.concatenate((var,var1))\n",
    "\n",
    "print(ar)"
   ]
  },
  {
   "cell_type": "code",
   "execution_count": 52,
   "id": "05cb9145",
   "metadata": {},
   "outputs": [
    {
     "name": "stdout",
     "output_type": "stream",
     "text": [
      "[[1 2 3 4 4 5 7 8]\n",
      " [5 6 8 3 3 5 8 9]]\n"
     ]
    }
   ],
   "source": [
    "var = np.array([[1,2,3,4],[5,6,8,3]])\n",
    "var1 = np.array([[4,5,7,8],[3,5,8,9]])\n",
    "\n",
    "ar = np.concatenate((var,var1),axis=1)\n",
    "\n",
    "print(ar)"
   ]
  },
  {
   "cell_type": "code",
   "execution_count": 54,
   "id": "ccc3877b",
   "metadata": {},
   "outputs": [
    {
     "name": "stdout",
     "output_type": "stream",
     "text": [
      "[[1 4]\n",
      " [2 5]\n",
      " [3 7]\n",
      " [4 8]]\n"
     ]
    }
   ],
   "source": [
    "# stack()----------->\n",
    "\n",
    "var = np.array([1,2,3,4])\n",
    "var1 = np.array([4,5,7,8])\n",
    "\n",
    "ar = np.stack((var,var1),axis = 1)\n",
    "\n",
    "print(ar)"
   ]
  },
  {
   "cell_type": "code",
   "execution_count": 55,
   "id": "ac67eb1c",
   "metadata": {},
   "outputs": [
    {
     "name": "stdout",
     "output_type": "stream",
     "text": [
      "[[1 2 3 4]\n",
      " [4 5 7 8]]\n"
     ]
    }
   ],
   "source": [
    "var = np.array([1,2,3,4])\n",
    "var1 = np.array([4,5,7,8])\n",
    "\n",
    "ar = np.stack((var,var1),axis = 0)\n",
    "\n",
    "print(ar)"
   ]
  },
  {
   "cell_type": "code",
   "execution_count": 57,
   "id": "a7ec7918",
   "metadata": {},
   "outputs": [
    {
     "name": "stdout",
     "output_type": "stream",
     "text": [
      "[[[1 4]\n",
      "  [2 5]\n",
      "  [3 7]\n",
      "  [4 8]]]\n"
     ]
    }
   ],
   "source": [
    "var = np.array([1,2,3,4])\n",
    "var1 = np.array([4,5,7,8])\n",
    "\n",
    "ar = np.dstack((var,var1))    # dstack hinght\n",
    "\n",
    "print(ar)"
   ]
  },
  {
   "cell_type": "code",
   "execution_count": 58,
   "id": "eaa717b1",
   "metadata": {},
   "outputs": [
    {
     "name": "stdout",
     "output_type": "stream",
     "text": [
      "[[1 2 3 4]\n",
      " [4 5 7 8]]\n"
     ]
    }
   ],
   "source": [
    "var = np.array([1,2,3,4])\n",
    "var1 = np.array([4,5,7,8])\n",
    "\n",
    "ar = np.vstack((var,var1))    # vstack column\n",
    "\n",
    "print(ar)"
   ]
  },
  {
   "cell_type": "code",
   "execution_count": 59,
   "id": "5a06882e",
   "metadata": {},
   "outputs": [
    {
     "name": "stdout",
     "output_type": "stream",
     "text": [
      "[1 2 3 4 4 5 7 8]\n"
     ]
    }
   ],
   "source": [
    "var = np.array([1,2,3,4])\n",
    "var1 = np.array([4,5,7,8])\n",
    "\n",
    "ar = np.hstack((var,var1))     # hstack row\n",
    "\n",
    "print(ar)"
   ]
  },
  {
   "cell_type": "markdown",
   "id": "c5bcaf37",
   "metadata": {},
   "source": [
    "# Split array"
   ]
  },
  {
   "cell_type": "code",
   "execution_count": 63,
   "id": "17dc3350",
   "metadata": {},
   "outputs": [
    {
     "name": "stdout",
     "output_type": "stream",
     "text": [
      "[1 2 3 4 5 6 7 8]\n",
      "\n",
      "[array([1, 2]), array([3, 4]), array([5, 6]), array([7, 8])]\n",
      "<class 'list'>\n"
     ]
    }
   ],
   "source": [
    "var = np.array([1,2,3,4,5,6,7,8])\n",
    "\n",
    "print(var)\n",
    "\n",
    "print()\n",
    "\n",
    "new = np.array_split(var,4)\n",
    "print(new)\n",
    "print(type(new))"
   ]
  },
  {
   "cell_type": "code",
   "execution_count": 64,
   "id": "891e5065",
   "metadata": {},
   "outputs": [
    {
     "name": "stdout",
     "output_type": "stream",
     "text": [
      "[1 2]\n"
     ]
    }
   ],
   "source": [
    "print(new[0])"
   ]
  },
  {
   "cell_type": "code",
   "execution_count": 65,
   "id": "a7b2d890",
   "metadata": {},
   "outputs": [
    {
     "name": "stdout",
     "output_type": "stream",
     "text": [
      "[[1 2 3 4]\n",
      " [5 6 7 8]]\n",
      "\n",
      "[array([[1, 2, 3, 4]]), array([[5, 6, 7, 8]]), array([], shape=(0, 4), dtype=int32)]\n",
      "<class 'list'>\n"
     ]
    }
   ],
   "source": [
    "var = np.array([[1,2,3,4],[5,6,7,8]])\n",
    "\n",
    "print(var)\n",
    "\n",
    "print()\n",
    "\n",
    "new = np.array_split(var,3)\n",
    "print(new)\n",
    "print(type(new))"
   ]
  },
  {
   "cell_type": "code",
   "execution_count": 66,
   "id": "611f3405",
   "metadata": {},
   "outputs": [
    {
     "name": "stdout",
     "output_type": "stream",
     "text": [
      "[[1 2 3 4]\n",
      " [5 6 7 8]]\n",
      "\n",
      "[array([[1, 2, 3, 4]]), array([[5, 6, 7, 8]]), array([], shape=(0, 4), dtype=int32), array([], shape=(0, 4), dtype=int32)]\n",
      "<class 'list'>\n"
     ]
    }
   ],
   "source": [
    "var = np.array([[1,2,3,4],[5,6,7,8]])\n",
    "\n",
    "print(var)\n",
    "\n",
    "print()\n",
    "\n",
    "new = np.array_split(var,4)\n",
    "print(new)\n",
    "print(type(new))"
   ]
  },
  {
   "cell_type": "code",
   "execution_count": 67,
   "id": "dfe9ce9a",
   "metadata": {},
   "outputs": [
    {
     "name": "stdout",
     "output_type": "stream",
     "text": [
      "[[1 2 3 4]\n",
      " [5 6 7 8]]\n",
      "\n",
      "[array([[1],\n",
      "       [5]]), array([[2],\n",
      "       [6]]), array([[3],\n",
      "       [7]]), array([[4],\n",
      "       [8]])]\n",
      "<class 'list'>\n"
     ]
    }
   ],
   "source": [
    "var = np.array([[1,2,3,4],[5,6,7,8]])\n",
    "\n",
    "print(var)\n",
    "\n",
    "print()\n",
    "\n",
    "new = np.array_split(var,4,axis = 1)\n",
    "print(new)\n",
    "print(type(new))"
   ]
  },
  {
   "cell_type": "markdown",
   "id": "69315280",
   "metadata": {},
   "source": [
    "# Searching"
   ]
  },
  {
   "cell_type": "code",
   "execution_count": 68,
   "id": "c1d0a782",
   "metadata": {},
   "outputs": [
    {
     "name": "stdout",
     "output_type": "stream",
     "text": [
      "(array([0, 6], dtype=int64),)\n"
     ]
    }
   ],
   "source": [
    "import numpy as np\n",
    "\n",
    "var = np.array([2,4,5,7,8,9,2,4,5])\n",
    "\n",
    "x = np.where(var == 2)\n",
    "print(x)"
   ]
  },
  {
   "cell_type": "code",
   "execution_count": 69,
   "id": "49a0f3f5",
   "metadata": {},
   "outputs": [
    {
     "name": "stdout",
     "output_type": "stream",
     "text": [
      "(array([2, 8], dtype=int64),)\n"
     ]
    }
   ],
   "source": [
    "x = np.where(var == 5)\n",
    "print(x)"
   ]
  },
  {
   "cell_type": "code",
   "execution_count": 70,
   "id": "cb812af2",
   "metadata": {},
   "outputs": [
    {
     "name": "stdout",
     "output_type": "stream",
     "text": [
      "(array([4], dtype=int64),)\n"
     ]
    }
   ],
   "source": [
    "x = np.where(var == 8)\n",
    "print(x)"
   ]
  },
  {
   "cell_type": "code",
   "execution_count": 72,
   "id": "ece7c383",
   "metadata": {},
   "outputs": [
    {
     "name": "stdout",
     "output_type": "stream",
     "text": [
      "(array([0, 1, 4, 6, 7], dtype=int64),)\n"
     ]
    }
   ],
   "source": [
    "x = np.where( (var%2) == 0)\n",
    "print(x)"
   ]
  },
  {
   "cell_type": "code",
   "execution_count": 74,
   "id": "b7768f91",
   "metadata": {},
   "outputs": [
    {
     "name": "stdout",
     "output_type": "stream",
     "text": [
      "2\n"
     ]
    }
   ],
   "source": [
    "var1 = np.array([2,4,5,7,8,9,2,4,5])\n",
    "\n",
    "x1= np.searchsorted(var1,5)\n",
    "print(x1)"
   ]
  },
  {
   "cell_type": "code",
   "execution_count": 75,
   "id": "1ff4a2d9",
   "metadata": {},
   "outputs": [
    {
     "name": "stdout",
     "output_type": "stream",
     "text": [
      "4\n"
     ]
    }
   ],
   "source": [
    "var1 = np.array([2,4,5,7,8,9,2,4,5])\n",
    "\n",
    "x1= np.searchsorted(var1,8)\n",
    "print(x1)"
   ]
  },
  {
   "cell_type": "code",
   "execution_count": 76,
   "id": "b67aa336",
   "metadata": {},
   "outputs": [
    {
     "name": "stdout",
     "output_type": "stream",
     "text": [
      "9\n"
     ]
    }
   ],
   "source": [
    "var1 = np.array([2,4,5,7,8,9,2,4,5])\n",
    "\n",
    "x1= np.searchsorted(var1,9,side = 'right')\n",
    "print(x1)"
   ]
  },
  {
   "cell_type": "code",
   "execution_count": 77,
   "id": "7b2edcbb",
   "metadata": {},
   "outputs": [
    {
     "name": "stdout",
     "output_type": "stream",
     "text": [
      "[0 1 9]\n"
     ]
    }
   ],
   "source": [
    "var1 = np.array([2,4,5,7,8,9,2,4,5])\n",
    "\n",
    "x1= np.searchsorted(var1,[1,3,10],side = 'right')\n",
    "print(x1)"
   ]
  },
  {
   "cell_type": "markdown",
   "id": "8a9b8a1d",
   "metadata": {},
   "source": [
    "# Sort"
   ]
  },
  {
   "cell_type": "code",
   "execution_count": 78,
   "id": "e01dcb39",
   "metadata": {},
   "outputs": [
    {
     "name": "stdout",
     "output_type": "stream",
     "text": [
      "[2 2 4 4 5 5 7 8 9]\n"
     ]
    }
   ],
   "source": [
    "var1 = np.array([2,4,5,7,8,9,2,4,5])\n",
    "\n",
    "x1= np.sort(var1)\n",
    "print(x1)"
   ]
  },
  {
   "cell_type": "code",
   "execution_count": 81,
   "id": "a3e043ad",
   "metadata": {},
   "outputs": [
    {
     "name": "stdout",
     "output_type": "stream",
     "text": [
      "['A' 'D' 'Hey' 'S' 'f' 'i']\n"
     ]
    }
   ],
   "source": [
    "var1 = np.array(['A','S','D','f','i','Hey'])\n",
    "\n",
    "x1= np.sort(var1)\n",
    "print(x1)"
   ]
  },
  {
   "cell_type": "code",
   "execution_count": 82,
   "id": "c8b99b35",
   "metadata": {},
   "outputs": [
    {
     "name": "stdout",
     "output_type": "stream",
     "text": [
      "[[2 4 5 7]\n",
      " [2 4 8 9]]\n"
     ]
    }
   ],
   "source": [
    "var1 = np.array([[2,4,5,7],[8,9,2,4]])\n",
    "\n",
    "x1= np.sort(var1)\n",
    "print(x1)"
   ]
  },
  {
   "cell_type": "markdown",
   "id": "1082378d",
   "metadata": {},
   "source": [
    "# Filter Array"
   ]
  },
  {
   "cell_type": "code",
   "execution_count": 84,
   "id": "bc1843fa",
   "metadata": {},
   "outputs": [
    {
     "name": "stdout",
     "output_type": "stream",
     "text": [
      "['a' 'f']\n",
      "<class 'numpy.ndarray'>\n"
     ]
    }
   ],
   "source": [
    "var_3 = np.array([\"a\",\"s\",\"d\",\"f\"])\n",
    "\n",
    "f = [True,False,False,True]\n",
    "\n",
    "new_a = var_3[f]\n",
    "print(new_a)\n",
    "print(type(new_a))"
   ]
  },
  {
   "cell_type": "markdown",
   "id": "486ed15c",
   "metadata": {},
   "source": [
    "# Shuffle()"
   ]
  },
  {
   "cell_type": "code",
   "execution_count": 85,
   "id": "da755bc1",
   "metadata": {},
   "outputs": [
    {
     "name": "stdout",
     "output_type": "stream",
     "text": [
      "[ 9 23  7  5  4]\n"
     ]
    }
   ],
   "source": [
    "var = np.array([4,5,7,9,23])\n",
    "np.random.shuffle(var)\n",
    "print(var)"
   ]
  },
  {
   "cell_type": "code",
   "execution_count": 86,
   "id": "2dcc424f",
   "metadata": {},
   "outputs": [
    {
     "name": "stdout",
     "output_type": "stream",
     "text": [
      "[ 4 23  5  9  7]\n"
     ]
    }
   ],
   "source": [
    "var = np.array([4,5,7,9,23])\n",
    "np.random.shuffle(var)\n",
    "print(var)"
   ]
  },
  {
   "cell_type": "code",
   "execution_count": 87,
   "id": "03f111ce",
   "metadata": {},
   "outputs": [
    {
     "name": "stdout",
     "output_type": "stream",
     "text": [
      "[ 5  9  4  7 23]\n"
     ]
    }
   ],
   "source": [
    "var = np.array([4,5,7,9,23])\n",
    "np.random.shuffle(var)\n",
    "print(var)\n"
   ]
  },
  {
   "cell_type": "markdown",
   "id": "d36c2a04",
   "metadata": {},
   "source": [
    "# Unique()"
   ]
  },
  {
   "cell_type": "code",
   "execution_count": 89,
   "id": "6aff928e",
   "metadata": {},
   "outputs": [
    {
     "name": "stdout",
     "output_type": "stream",
     "text": [
      "(array([ 4,  5,  7,  9, 12, 23, 54, 67]), array([0, 1, 2, 3, 5, 4, 6, 7], dtype=int64))\n"
     ]
    }
   ],
   "source": [
    "var = np.array([4,5,7,9,23,12,54,67])\n",
    "x = np.unique(var,return_index = True)\n",
    "print(x)"
   ]
  },
  {
   "cell_type": "code",
   "execution_count": 90,
   "id": "f6f4a638",
   "metadata": {},
   "outputs": [
    {
     "name": "stdout",
     "output_type": "stream",
     "text": [
      "[ 4  5  7  9 12 23 54 67]\n"
     ]
    }
   ],
   "source": [
    "var = np.array([4,5,7,9,23,12,54,67])\n",
    "x = np.unique(var,return_index = False)\n",
    "print(x)"
   ]
  },
  {
   "cell_type": "code",
   "execution_count": 91,
   "id": "7fc05ee8",
   "metadata": {},
   "outputs": [
    {
     "name": "stdout",
     "output_type": "stream",
     "text": [
      "(array([ 4,  5,  7,  9, 12, 23, 54, 67]), array([0, 1, 2, 3, 5, 4, 6, 7], dtype=int64), array([1, 1, 1, 1, 1, 1, 1, 1], dtype=int64))\n"
     ]
    }
   ],
   "source": [
    "var = np.array([4,5,7,9,23,12,54,67])\n",
    "x = np.unique(var,return_index = True,return_counts = True)\n",
    "print(x)"
   ]
  },
  {
   "cell_type": "markdown",
   "id": "52bb0b1b",
   "metadata": {},
   "source": [
    "# Resize()"
   ]
  },
  {
   "cell_type": "code",
   "execution_count": 92,
   "id": "aa3d103a",
   "metadata": {},
   "outputs": [
    {
     "name": "stdout",
     "output_type": "stream",
     "text": [
      "[[1 2 3]\n",
      " [4 5 6]]\n"
     ]
    }
   ],
   "source": [
    "var2 = np.array([1,2,3,4,5,6,7])\n",
    "\n",
    "y = np.resize(var2,(2,3))\n",
    "print(y)"
   ]
  },
  {
   "cell_type": "code",
   "execution_count": 93,
   "id": "be809fa6",
   "metadata": {},
   "outputs": [
    {
     "name": "stdout",
     "output_type": "stream",
     "text": [
      "[[1 2]\n",
      " [3 4]]\n"
     ]
    }
   ],
   "source": [
    "var2 = np.array([1,2,3,4,5,6,7])\n",
    "\n",
    "y = np.resize(var2,(2,2))\n",
    "print(y)"
   ]
  },
  {
   "cell_type": "code",
   "execution_count": 94,
   "id": "4747a9f8",
   "metadata": {},
   "outputs": [
    {
     "name": "stdout",
     "output_type": "stream",
     "text": [
      "[[1 2]\n",
      " [3 4]\n",
      " [5 6]]\n"
     ]
    }
   ],
   "source": [
    "var2 = np.array([1,2,3,4,5,6,7])\n",
    "\n",
    "y = np.resize(var2,(3,2))\n",
    "print(y)"
   ]
  },
  {
   "cell_type": "markdown",
   "id": "f9098ebf",
   "metadata": {},
   "source": [
    "# Flatten()"
   ]
  },
  {
   "cell_type": "code",
   "execution_count": 96,
   "id": "c26cc428",
   "metadata": {},
   "outputs": [
    {
     "name": "stdout",
     "output_type": "stream",
     "text": [
      "[[1 2]\n",
      " [3 4]\n",
      " [5 6]]\n",
      "\n",
      "[1 2 3 4 5 6]\n"
     ]
    }
   ],
   "source": [
    "var2 = np.array([1,2,3,4,5,6,7])\n",
    "\n",
    "y = np.resize(var2,(3,2))\n",
    "print(y)\n",
    "print()\n",
    "print(y.flatten())"
   ]
  },
  {
   "cell_type": "code",
   "execution_count": 97,
   "id": "56525945",
   "metadata": {},
   "outputs": [
    {
     "name": "stdout",
     "output_type": "stream",
     "text": [
      "[[1 2]\n",
      " [3 4]\n",
      " [5 6]]\n",
      "\n",
      "[1 3 5 2 4 6]\n"
     ]
    }
   ],
   "source": [
    "var2 = np.array([1,2,3,4,5,6,7])\n",
    "\n",
    "y = np.resize(var2,(3,2))\n",
    "print(y)\n",
    "print()\n",
    "print(y.flatten(order = \"F\"))"
   ]
  },
  {
   "cell_type": "code",
   "execution_count": 98,
   "id": "fb73fe51",
   "metadata": {},
   "outputs": [
    {
     "name": "stdout",
     "output_type": "stream",
     "text": [
      "[[1 2]\n",
      " [3 4]\n",
      " [5 6]]\n",
      "\n",
      "[1 2 3 4 5 6]\n"
     ]
    }
   ],
   "source": [
    "var2 = np.array([1,2,3,4,5,6,7])\n",
    "\n",
    "y = np.resize(var2,(3,2))\n",
    "print(y)\n",
    "print()\n",
    "print(y.flatten(order = \"A\"))"
   ]
  },
  {
   "cell_type": "markdown",
   "id": "bcfbee25",
   "metadata": {},
   "source": [
    "# Ravel()"
   ]
  },
  {
   "cell_type": "code",
   "execution_count": 99,
   "id": "bc58f8eb",
   "metadata": {},
   "outputs": [
    {
     "name": "stdout",
     "output_type": "stream",
     "text": [
      "[[1 2]\n",
      " [3 4]\n",
      " [5 6]]\n",
      "\n",
      "[1 3 5 2 4 6]\n",
      "Ravel [1 2 3 4 5 6]\n"
     ]
    }
   ],
   "source": [
    "var2 = np.array([1,2,3,4,5,6,7])\n",
    "\n",
    "y = np.resize(var2,(3,2))\n",
    "print(y)\n",
    "print()\n",
    "print(y.flatten(order = \"F\"))\n",
    "print(\"Ravel\", np.ravel(y,order=\"A\"))"
   ]
  },
  {
   "cell_type": "code",
   "execution_count": 101,
   "id": "1939fbfb",
   "metadata": {},
   "outputs": [
    {
     "name": "stdout",
     "output_type": "stream",
     "text": [
      "[[1 2]\n",
      " [3 4]\n",
      " [5 6]]\n",
      "\n",
      "[1 3 5 2 4 6]\n",
      "Ravel [1 2 3 4 5 6]\n"
     ]
    }
   ],
   "source": [
    "var2 = np.array([1,2,3,4,5,6,7])\n",
    "\n",
    "y = np.resize(var2,(3,2))\n",
    "print(y)\n",
    "print()\n",
    "print(y.flatten(order = \"F\"))\n",
    "print(\"Ravel\", np.ravel(y,order=\"C\"))"
   ]
  },
  {
   "cell_type": "markdown",
   "id": "023ec2f1",
   "metadata": {},
   "source": [
    "# Insert()"
   ]
  },
  {
   "cell_type": "code",
   "execution_count": 104,
   "id": "a5630d5a",
   "metadata": {},
   "outputs": [
    {
     "name": "stdout",
     "output_type": "stream",
     "text": [
      "[2 3 5 7]\n",
      "\n",
      "[ 2  3 50  5  7]\n"
     ]
    }
   ],
   "source": [
    "x = np.array([2,3,5,7])\n",
    "\n",
    "print(x)\n",
    "print()\n",
    "\n",
    "y = np.insert(x, 2,50)\n",
    "print(y)"
   ]
  },
  {
   "cell_type": "code",
   "execution_count": 106,
   "id": "5dad51d7",
   "metadata": {},
   "outputs": [
    {
     "name": "stdout",
     "output_type": "stream",
     "text": [
      "[2 3 5 7]\n",
      "\n",
      "[ 2  3 50 70  5  7]\n"
     ]
    }
   ],
   "source": [
    "x = np.array([2,3,5,7])\n",
    "\n",
    "print(x)\n",
    "print()\n",
    "\n",
    "y = np.insert(x, 2,(50,70))\n",
    "print(y)"
   ]
  },
  {
   "cell_type": "code",
   "execution_count": 109,
   "id": "42dafe06",
   "metadata": {},
   "outputs": [
    {
     "name": "stdout",
     "output_type": "stream",
     "text": [
      "[2 3 5 7]\n",
      "\n",
      "[ 2  3 40  5 40  7]\n"
     ]
    }
   ],
   "source": [
    "x = np.array([2,3,5,7])\n",
    "\n",
    "print(x)\n",
    "print()\n",
    "\n",
    "y = np.insert(x, (2,3), 40)\n",
    "print(y)"
   ]
  },
  {
   "cell_type": "code",
   "execution_count": 110,
   "id": "9311f3fc",
   "metadata": {},
   "outputs": [
    {
     "name": "stdout",
     "output_type": "stream",
     "text": [
      "[2 3 5 7]\n",
      "\n",
      "[2 3 8 5 7]\n"
     ]
    }
   ],
   "source": [
    "x = np.array([2,3,5,7])\n",
    "\n",
    "print(x)\n",
    "print()\n",
    "\n",
    "y = np.insert(x, 2, 8.6 )\n",
    "print(y)"
   ]
  },
  {
   "cell_type": "code",
   "execution_count": 113,
   "id": "783c5240",
   "metadata": {},
   "outputs": [
    {
     "name": "stdout",
     "output_type": "stream",
     "text": [
      "[[2 3 5]\n",
      " [7 6 9]]\n",
      "\n",
      "[[ 2  3 22  5]\n",
      " [ 7  6 11  9]]\n"
     ]
    }
   ],
   "source": [
    "x = np.array([[2,3,5],[7,6,9]])\n",
    "\n",
    "print(x)\n",
    "print()\n",
    "\n",
    "y = np.insert(x, 2, [22,11] , axis = 1)\n",
    "print(y)"
   ]
  },
  {
   "cell_type": "code",
   "execution_count": 114,
   "id": "9b70c93d",
   "metadata": {},
   "outputs": [
    {
     "name": "stdout",
     "output_type": "stream",
     "text": [
      "[2 3 5 7]\n",
      "\n",
      "[2.  3.  5.  7.  8.6]\n"
     ]
    }
   ],
   "source": [
    "x = np.array([2,3,5,7])\n",
    "\n",
    "print(x)\n",
    "print()\n",
    "\n",
    "y = np.append(x, 8.6 )\n",
    "print(y)"
   ]
  },
  {
   "cell_type": "code",
   "execution_count": 115,
   "id": "7befe654",
   "metadata": {},
   "outputs": [
    {
     "name": "stdout",
     "output_type": "stream",
     "text": [
      "[[2 3 5]\n",
      " [7 6 9]]\n",
      "\n",
      "[[ 2  3  5]\n",
      " [ 7  6  9]\n",
      " [22 11 33]]\n"
     ]
    }
   ],
   "source": [
    "x = np.array([[2,3,5],[7,6,9]])\n",
    "\n",
    "print(x)\n",
    "print()\n",
    "\n",
    "y = np.append(x, [[22,11,33]] , axis = 0)\n",
    "print(y)"
   ]
  },
  {
   "cell_type": "markdown",
   "id": "bbc64b59",
   "metadata": {},
   "source": [
    "# Delete()"
   ]
  },
  {
   "cell_type": "code",
   "execution_count": 116,
   "id": "5f751392",
   "metadata": {},
   "outputs": [
    {
     "name": "stdout",
     "output_type": "stream",
     "text": [
      "[2 3 5 7]\n",
      "\n",
      "[2 3 7]\n"
     ]
    }
   ],
   "source": [
    "x = np.array([2,3,5,7])\n",
    "\n",
    "print(x)\n",
    "print()\n",
    "\n",
    "y = np.delete(x, 2 )\n",
    "print(y)"
   ]
  },
  {
   "cell_type": "markdown",
   "id": "f9886672",
   "metadata": {},
   "source": [
    "# Matrix in NumPy Arrays"
   ]
  },
  {
   "cell_type": "code",
   "execution_count": 121,
   "id": "ee5375b7",
   "metadata": {},
   "outputs": [
    {
     "name": "stdout",
     "output_type": "stream",
     "text": [
      "[[1 2 3]\n",
      " [4 5 6]]\n",
      "<class 'numpy.matrix'>\n"
     ]
    }
   ],
   "source": [
    "import numpy as np\n",
    "\n",
    "var = np.matrix([[1,2,3],[4,5,6]])\n",
    "print(var)\n",
    "\n",
    "print(type(var))"
   ]
  },
  {
   "cell_type": "code",
   "execution_count": 120,
   "id": "06dca6ce",
   "metadata": {},
   "outputs": [
    {
     "name": "stdout",
     "output_type": "stream",
     "text": [
      "[[1 2 3]\n",
      " [4 5 6]]\n",
      "<class 'numpy.ndarray'>\n"
     ]
    }
   ],
   "source": [
    "var1 = np.array([[1,2,3],[4,5,6]])\n",
    "print(var1)\n",
    "print(type(var1))"
   ]
  },
  {
   "cell_type": "code",
   "execution_count": 122,
   "id": "79d27b9d",
   "metadata": {},
   "outputs": [
    {
     "name": "stdout",
     "output_type": "stream",
     "text": [
      "[[1 2 3]\n",
      " [4 5 6]]\n",
      "[[1 2 3]\n",
      " [4 5 6]]\n",
      "\n",
      "[[ 2  4  6]\n",
      " [ 8 10 12]]\n"
     ]
    }
   ],
   "source": [
    "var1 = np.matrix([[1,2,3],[4,5,6]])\n",
    "var2 = np.matrix([[1,2,3],[4,5,6]])\n",
    "print(var1)\n",
    "print(var2)\n",
    "\n",
    "print()\n",
    "print(var1+var2)"
   ]
  },
  {
   "cell_type": "code",
   "execution_count": 123,
   "id": "9689393f",
   "metadata": {},
   "outputs": [
    {
     "name": "stdout",
     "output_type": "stream",
     "text": [
      "[[1 2 3]\n",
      " [4 5 6]]\n",
      "[[1 2 3]\n",
      " [4 5 6]]\n",
      "\n",
      "[[0 0 0]\n",
      " [0 0 0]]\n"
     ]
    }
   ],
   "source": [
    "var1 = np.matrix([[1,2,3],[4,5,6]])\n",
    "var2 = np.matrix([[1,2,3],[4,5,6]])\n",
    "print(var1)\n",
    "print(var2)\n",
    "\n",
    "print()\n",
    "print(var1-var2)"
   ]
  },
  {
   "cell_type": "code",
   "execution_count": 124,
   "id": "6dd7cb02",
   "metadata": {},
   "outputs": [
    {
     "name": "stdout",
     "output_type": "stream",
     "text": [
      "[[1 2 3]\n",
      " [4 5 6]]\n",
      "[[1 2 3]\n",
      " [4 5 6]]\n",
      "\n"
     ]
    },
    {
     "ename": "ValueError",
     "evalue": "shapes (2,3) and (2,3) not aligned: 3 (dim 1) != 2 (dim 0)",
     "output_type": "error",
     "traceback": [
      "\u001b[1;31m---------------------------------------------------------------------------\u001b[0m",
      "\u001b[1;31mValueError\u001b[0m                                Traceback (most recent call last)",
      "Cell \u001b[1;32mIn[124], line 7\u001b[0m\n\u001b[0;32m      4\u001b[0m \u001b[38;5;28mprint\u001b[39m(var2)\n\u001b[0;32m      6\u001b[0m \u001b[38;5;28mprint\u001b[39m()\n\u001b[1;32m----> 7\u001b[0m \u001b[38;5;28mprint\u001b[39m(\u001b[43mvar1\u001b[49m\u001b[38;5;241;43m*\u001b[39;49m\u001b[43mvar2\u001b[49m)\n",
      "File \u001b[1;32m~\\AppData\\Local\\Programs\\Python\\Python311\\Lib\\site-packages\\numpy\\matrixlib\\defmatrix.py:219\u001b[0m, in \u001b[0;36mmatrix.__mul__\u001b[1;34m(self, other)\u001b[0m\n\u001b[0;32m    216\u001b[0m \u001b[38;5;28;01mdef\u001b[39;00m \u001b[38;5;21m__mul__\u001b[39m(\u001b[38;5;28mself\u001b[39m, other):\n\u001b[0;32m    217\u001b[0m     \u001b[38;5;28;01mif\u001b[39;00m \u001b[38;5;28misinstance\u001b[39m(other, (N\u001b[38;5;241m.\u001b[39mndarray, \u001b[38;5;28mlist\u001b[39m, \u001b[38;5;28mtuple\u001b[39m)) :\n\u001b[0;32m    218\u001b[0m         \u001b[38;5;66;03m# This promotes 1-D vectors to row vectors\u001b[39;00m\n\u001b[1;32m--> 219\u001b[0m         \u001b[38;5;28;01mreturn\u001b[39;00m \u001b[43mN\u001b[49m\u001b[38;5;241;43m.\u001b[39;49m\u001b[43mdot\u001b[49m\u001b[43m(\u001b[49m\u001b[38;5;28;43mself\u001b[39;49m\u001b[43m,\u001b[49m\u001b[43m \u001b[49m\u001b[43masmatrix\u001b[49m\u001b[43m(\u001b[49m\u001b[43mother\u001b[49m\u001b[43m)\u001b[49m\u001b[43m)\u001b[49m\n\u001b[0;32m    220\u001b[0m     \u001b[38;5;28;01mif\u001b[39;00m isscalar(other) \u001b[38;5;129;01mor\u001b[39;00m \u001b[38;5;129;01mnot\u001b[39;00m \u001b[38;5;28mhasattr\u001b[39m(other, \u001b[38;5;124m'\u001b[39m\u001b[38;5;124m__rmul__\u001b[39m\u001b[38;5;124m'\u001b[39m) :\n\u001b[0;32m    221\u001b[0m         \u001b[38;5;28;01mreturn\u001b[39;00m N\u001b[38;5;241m.\u001b[39mdot(\u001b[38;5;28mself\u001b[39m, other)\n",
      "\u001b[1;31mValueError\u001b[0m: shapes (2,3) and (2,3) not aligned: 3 (dim 1) != 2 (dim 0)"
     ]
    }
   ],
   "source": [
    "var1 = np.matrix([[1,2,3],[4,5,6]])\n",
    "var2 = np.matrix([[1,2,3],[4,5,6]])\n",
    "print(var1)\n",
    "print(var2)\n",
    "\n",
    "print()\n",
    "print(var1*var2)"
   ]
  },
  {
   "cell_type": "code",
   "execution_count": 126,
   "id": "89d97fc9",
   "metadata": {},
   "outputs": [
    {
     "name": "stdout",
     "output_type": "stream",
     "text": [
      "[[1 2 3]\n",
      " [4 5 6]]\n",
      "[[1 2 3]\n",
      " [4 5 6]]\n",
      "\n",
      "[[ 1  4  9]\n",
      " [16 25 36]]\n"
     ]
    }
   ],
   "source": [
    "var1 = np.array([[1,2,3],[4,5,6]])\n",
    "var2 = np.array([[1,2,3],[4,5,6]])\n",
    "print(var1)\n",
    "print(var2)\n",
    "\n",
    "print()\n",
    "print(var1*var2)"
   ]
  },
  {
   "cell_type": "code",
   "execution_count": 127,
   "id": "62da25ef",
   "metadata": {},
   "outputs": [
    {
     "name": "stdout",
     "output_type": "stream",
     "text": [
      "[[1 2 3]\n",
      " [4 5 6]]\n",
      "[[1 2 3]\n",
      " [4 5 6]]\n",
      "\n"
     ]
    },
    {
     "ename": "ValueError",
     "evalue": "shapes (2,3) and (2,3) not aligned: 3 (dim 1) != 2 (dim 0)",
     "output_type": "error",
     "traceback": [
      "\u001b[1;31m---------------------------------------------------------------------------\u001b[0m",
      "\u001b[1;31mValueError\u001b[0m                                Traceback (most recent call last)",
      "Cell \u001b[1;32mIn[127], line 7\u001b[0m\n\u001b[0;32m      4\u001b[0m \u001b[38;5;28mprint\u001b[39m(var2)\n\u001b[0;32m      6\u001b[0m \u001b[38;5;28mprint\u001b[39m()\n\u001b[1;32m----> 7\u001b[0m \u001b[38;5;28mprint\u001b[39m(\u001b[43mvar1\u001b[49m\u001b[38;5;241;43m.\u001b[39;49m\u001b[43mdot\u001b[49m\u001b[43m(\u001b[49m\u001b[43mvar2\u001b[49m\u001b[43m)\u001b[49m)\n",
      "\u001b[1;31mValueError\u001b[0m: shapes (2,3) and (2,3) not aligned: 3 (dim 1) != 2 (dim 0)"
     ]
    }
   ],
   "source": [
    "var1 = np.matrix([[1,2,3],[4,5,6]])\n",
    "var2 = np.matrix([[1,2,3],[4,5,6]])\n",
    "print(var1)\n",
    "print(var2)\n",
    "\n",
    "print()\n",
    "print(var1.dot(var2))"
   ]
  },
  {
   "cell_type": "code",
   "execution_count": 128,
   "id": "7e7dc2b3",
   "metadata": {},
   "outputs": [
    {
     "name": "stdout",
     "output_type": "stream",
     "text": [
      "[[1 2]\n",
      " [4 5]]\n",
      "[[1 2]\n",
      " [4 5]]\n",
      "\n",
      "[[ 9 12]\n",
      " [24 33]]\n"
     ]
    }
   ],
   "source": [
    "var1 = np.matrix([[1,2],[4,5]])\n",
    "var2 = np.matrix([[1,2],[4,5]])\n",
    "print(var1)\n",
    "print(var2)\n",
    "\n",
    "print()\n",
    "print(var1.dot(var2))"
   ]
  },
  {
   "cell_type": "markdown",
   "id": "f93118cf",
   "metadata": {},
   "source": [
    "# Matrix Functions"
   ]
  },
  {
   "cell_type": "code",
   "execution_count": 129,
   "id": "0b865f52",
   "metadata": {},
   "outputs": [
    {
     "name": "stdout",
     "output_type": "stream",
     "text": [
      "[[1 2 3]\n",
      " [1 2 3]]\n",
      "\n"
     ]
    }
   ],
   "source": [
    "var = np.matrix([[1,2,3],[1,2,3]])\n",
    "\n",
    "print(var)\n",
    "print()\n"
   ]
  },
  {
   "cell_type": "markdown",
   "id": "150de382",
   "metadata": {},
   "source": [
    "# Transpose()"
   ]
  },
  {
   "cell_type": "code",
   "execution_count": 130,
   "id": "557d720d",
   "metadata": {},
   "outputs": [
    {
     "name": "stdout",
     "output_type": "stream",
     "text": [
      "[[1 2 3]\n",
      " [1 2 3]]\n",
      "\n",
      "[[1 1]\n",
      " [2 2]\n",
      " [3 3]]\n"
     ]
    }
   ],
   "source": [
    "var = np.matrix([[1,2,3],[1,2,3]])\n",
    "\n",
    "print(var)\n",
    "print()\n",
    "\n",
    "print(np.transpose(var))"
   ]
  },
  {
   "cell_type": "code",
   "execution_count": 131,
   "id": "9ebcd852",
   "metadata": {},
   "outputs": [
    {
     "name": "stdout",
     "output_type": "stream",
     "text": [
      "[[1 2 3]\n",
      " [1 2 3]]\n",
      "\n",
      "[[1 1]\n",
      " [2 2]\n",
      " [3 3]]\n",
      "\n",
      "[[1 1]\n",
      " [2 2]\n",
      " [3 3]]\n"
     ]
    }
   ],
   "source": [
    "var = np.matrix([[1,2,3],[1,2,3]])\n",
    "\n",
    "print(var)\n",
    "print()\n",
    "\n",
    "print(np.transpose(var))\n",
    "print()\n",
    "print(var.T)"
   ]
  },
  {
   "cell_type": "markdown",
   "id": "e768dca7",
   "metadata": {},
   "source": [
    "# Swapaxes()"
   ]
  },
  {
   "cell_type": "code",
   "execution_count": 133,
   "id": "9753c84a",
   "metadata": {},
   "outputs": [
    {
     "name": "stdout",
     "output_type": "stream",
     "text": [
      "[[1 2 3]\n",
      " [1 2 3]]\n",
      "\n",
      "[[1 1]\n",
      " [2 2]\n",
      " [3 3]]\n"
     ]
    }
   ],
   "source": [
    "var = np.matrix([[1,2,3],[1,2,3]])\n",
    "\n",
    "print(var)\n",
    "print()\n",
    "\n",
    "print(np.swapaxes(var,0,1))"
   ]
  },
  {
   "cell_type": "code",
   "execution_count": 134,
   "id": "5578fc83",
   "metadata": {},
   "outputs": [
    {
     "name": "stdout",
     "output_type": "stream",
     "text": [
      "[[4 1]\n",
      " [2 3]]\n",
      "\n",
      "[[4 2]\n",
      " [1 3]]\n"
     ]
    }
   ],
   "source": [
    "var1 = np.matrix([[4,1],[2,3]])\n",
    "\n",
    "print(var1)\n",
    "print()\n",
    "\n",
    "print(np.swapaxes(var1,0,1))"
   ]
  },
  {
   "cell_type": "markdown",
   "id": "40e0047c",
   "metadata": {},
   "source": [
    "# Inverse()"
   ]
  },
  {
   "cell_type": "code",
   "execution_count": 136,
   "id": "6bf19bc5",
   "metadata": {},
   "outputs": [
    {
     "name": "stdout",
     "output_type": "stream",
     "text": [
      "[[1 2]\n",
      " [3 4]]\n",
      "\n",
      "[[-2.   1. ]\n",
      " [ 1.5 -0.5]]\n"
     ]
    }
   ],
   "source": [
    "var = np.matrix([[1,2],[3,4]])\n",
    "\n",
    "print(var)\n",
    "print()\n",
    "\n",
    "print(np.linalg.inv(var))"
   ]
  },
  {
   "cell_type": "markdown",
   "id": "ddd948cd",
   "metadata": {},
   "source": [
    "# Power()"
   ]
  },
  {
   "cell_type": "code",
   "execution_count": 138,
   "id": "6f2aec21",
   "metadata": {},
   "outputs": [
    {
     "name": "stdout",
     "output_type": "stream",
     "text": [
      "[[2 3]\n",
      " [1 2]]\n",
      "\n",
      "[[26 45]\n",
      " [15 26]]\n"
     ]
    }
   ],
   "source": [
    "var = np.matrix([[2,3],[1,2]])\n",
    "\n",
    "print(var)\n",
    "print()\n",
    "\n",
    "print(np.linalg.matrix_power(var,3))        "
   ]
  },
  {
   "cell_type": "code",
   "execution_count": 139,
   "id": "daccb7c6",
   "metadata": {},
   "outputs": [
    {
     "name": "stdout",
     "output_type": "stream",
     "text": [
      "[[2 3]\n",
      " [1 2]]\n",
      "\n",
      "[[ 7 12]\n",
      " [ 4  7]]\n"
     ]
    }
   ],
   "source": [
    "var = np.matrix([[2,3],[1,2]])\n",
    "\n",
    "print(var)\n",
    "print()\n",
    "\n",
    "print(np.linalg.matrix_power(var,2))"
   ]
  },
  {
   "cell_type": "code",
   "execution_count": 140,
   "id": "ddab7122",
   "metadata": {},
   "outputs": [
    {
     "name": "stdout",
     "output_type": "stream",
     "text": [
      "[[2 3]\n",
      " [1 2]]\n",
      "\n",
      "[[  7. -12.]\n",
      " [ -4.   7.]]\n"
     ]
    }
   ],
   "source": [
    "var = np.matrix([[2,3],[1,2]])\n",
    "\n",
    "print(var)\n",
    "print()\n",
    "\n",
    "print(np.linalg.matrix_power(var,-2))"
   ]
  },
  {
   "cell_type": "code",
   "execution_count": 141,
   "id": "64466f0b",
   "metadata": {},
   "outputs": [
    {
     "name": "stdout",
     "output_type": "stream",
     "text": [
      "[[2 3]\n",
      " [1 2]]\n",
      "\n",
      "[[1 0]\n",
      " [0 1]]\n"
     ]
    }
   ],
   "source": [
    "var = np.matrix([[2,3],[1,2]])\n",
    "\n",
    "print(var)\n",
    "print()\n",
    "\n",
    "print(np.linalg.matrix_power(var,0))"
   ]
  },
  {
   "cell_type": "markdown",
   "id": "6a131d47",
   "metadata": {},
   "source": [
    "# Determinate()"
   ]
  },
  {
   "cell_type": "code",
   "execution_count": 142,
   "id": "4762fe5f",
   "metadata": {},
   "outputs": [
    {
     "name": "stdout",
     "output_type": "stream",
     "text": [
      "[[2 3]\n",
      " [1 2]]\n",
      "\n",
      "1.0\n"
     ]
    }
   ],
   "source": [
    "var = np.matrix([[2,3],[1,2]])\n",
    "\n",
    "print(var)\n",
    "print()\n",
    "\n",
    "print(np.linalg.det(var))         # |A|"
   ]
  },
  {
   "cell_type": "code",
   "execution_count": 144,
   "id": "18fe9ac8",
   "metadata": {},
   "outputs": [
    {
     "name": "stdout",
     "output_type": "stream",
     "text": [
      "[[2 3 6]\n",
      " [1 2 7]\n",
      " [3 8 9]]\n",
      "\n",
      "-27.999999999999996\n"
     ]
    }
   ],
   "source": [
    "var = np.matrix([[2,3,6],[1,2,7],[3,8,9]])\n",
    "\n",
    "print(var)\n",
    "print()\n",
    "\n",
    "print(np.linalg.det(var))         # |A|"
   ]
  },
  {
   "cell_type": "code",
   "execution_count": null,
   "id": "1e41be98",
   "metadata": {},
   "outputs": [],
   "source": []
  }
 ],
 "metadata": {
  "kernelspec": {
   "display_name": "Python 3 (ipykernel)",
   "language": "python",
   "name": "python3"
  },
  "language_info": {
   "codemirror_mode": {
    "name": "ipython",
    "version": 3
   },
   "file_extension": ".py",
   "mimetype": "text/x-python",
   "name": "python",
   "nbconvert_exporter": "python",
   "pygments_lexer": "ipython3",
   "version": "3.11.1"
  }
 },
 "nbformat": 4,
 "nbformat_minor": 5
}
